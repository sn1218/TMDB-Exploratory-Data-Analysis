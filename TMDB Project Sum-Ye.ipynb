{
 "cells": [
  {
   "cell_type": "markdown",
   "id": "1fa2994f-a474-4561-9b96-095661569a0d",
   "metadata": {},
   "source": [
    "<p style=\"text-align:center;\">\n",
    "<img src=\"https://github.com/digital-futures-academy/DataScienceMasterResources/blob/main/Resources/datascience-notebook-header.png?raw=true\"\n",
    "     alt=\"DigitalFuturesLogo\"\n",
    "     style=\"float: center; margin-right: 10px;\" />\n",
    "</p>\n",
    "\n",
    "# TMDB Data Exploration\n",
    "### <i>By Sum-Ye Nim</i>\n",
    "\n",
    "### Table Of Contents:\n",
    "* [Data Wrangling](#1)\n",
    "* [Exploratory Data Analysis](#2)\n",
    "* [Conclusions](#3)\n",
    "\n",
    "The aim of this workbook is to perform Exploratory Data Analysis on the TMDB movie dataset to draw out insights."
   ]
  },
  {
   "cell_type": "code",
   "execution_count": 30,
   "id": "493802d2-435e-45d2-8b1c-4c64472c0391",
   "metadata": {
    "tags": []
   },
   "outputs": [],
   "source": [
    "# First, import the modules we need\n",
    "\n",
    "import numpy as np  \n",
    "import seaborn as sns \n",
    "import matplotlib.pyplot as plt\n",
    "import pandas as pd\n",
    "import plotly.express as px\n",
    "import plotly.graph_objects as go"
   ]
  },
  {
   "cell_type": "markdown",
   "id": "0009f83e-0b15-40b1-ab0d-960b257a9529",
   "metadata": {
    "jp-MarkdownHeadingCollapsed": true,
    "tags": []
   },
   "source": [
    "## Data Wrangling <a class=\"anchor\" id=\"1\"></a>"
   ]
  },
  {
   "cell_type": "code",
   "execution_count": 36,
   "id": "b3e4d06b-dd79-4870-b0e7-abbd3ecaade8",
   "metadata": {
    "tags": []
   },
   "outputs": [],
   "source": [
    "# Create a dataframe called df and read in the csv \n",
    "df = pd.read_csv('TMDB_movies.csv')"
   ]
  },
  {
   "cell_type": "markdown",
   "id": "6e4d42d6-c170-4c29-84e1-e569615290ef",
   "metadata": {
    "tags": []
   },
   "source": [
    "### General Properties <a class=\"anchor\" id=\"1.1\"></a>"
   ]
  },
  {
   "cell_type": "markdown",
   "id": "70fa43fb-0e9e-4876-a2cc-95f8730b605d",
   "metadata": {},
   "source": [
    "Start looking at the data structure."
   ]
  },
  {
   "cell_type": "code",
   "execution_count": 40,
   "id": "38e338d0-558a-4056-b138-15854c97b7d6",
   "metadata": {
    "tags": []
   },
   "outputs": [
    {
     "data": {
      "text/html": [
       "<div>\n",
       "<style scoped>\n",
       "    .dataframe tbody tr th:only-of-type {\n",
       "        vertical-align: middle;\n",
       "    }\n",
       "\n",
       "    .dataframe tbody tr th {\n",
       "        vertical-align: top;\n",
       "    }\n",
       "\n",
       "    .dataframe thead th {\n",
       "        text-align: right;\n",
       "    }\n",
       "</style>\n",
       "<table border=\"1\" class=\"dataframe\">\n",
       "  <thead>\n",
       "    <tr style=\"text-align: right;\">\n",
       "      <th></th>\n",
       "      <th>budget</th>\n",
       "      <th>genres</th>\n",
       "      <th>homepage</th>\n",
       "      <th>id</th>\n",
       "      <th>keywords</th>\n",
       "      <th>original_language</th>\n",
       "      <th>original_title</th>\n",
       "      <th>overview</th>\n",
       "      <th>popularity</th>\n",
       "      <th>production_companies</th>\n",
       "      <th>production_countries</th>\n",
       "      <th>release_date</th>\n",
       "      <th>revenue</th>\n",
       "      <th>runtime</th>\n",
       "      <th>spoken_languages</th>\n",
       "      <th>status</th>\n",
       "      <th>tagline</th>\n",
       "      <th>title</th>\n",
       "      <th>vote_average</th>\n",
       "      <th>vote_count</th>\n",
       "    </tr>\n",
       "  </thead>\n",
       "  <tbody>\n",
       "    <tr>\n",
       "      <th>0</th>\n",
       "      <td>237000000</td>\n",
       "      <td>[{\"id\": 28, \"name\": \"Action\"}, {\"id\": 12, \"nam...</td>\n",
       "      <td>http://www.avatarmovie.com/</td>\n",
       "      <td>19995</td>\n",
       "      <td>[{\"id\": 1463, \"name\": \"culture clash\"}, {\"id\":...</td>\n",
       "      <td>en</td>\n",
       "      <td>Avatar</td>\n",
       "      <td>In the 22nd century, a paraplegic Marine is di...</td>\n",
       "      <td>150.437577</td>\n",
       "      <td>[{\"name\": \"Ingenious Film Partners\", \"id\": 289...</td>\n",
       "      <td>[{\"iso_3166_1\": \"US\", \"name\": \"United States o...</td>\n",
       "      <td>2009-12-10</td>\n",
       "      <td>2787965087</td>\n",
       "      <td>162.0</td>\n",
       "      <td>[{\"iso_639_1\": \"en\", \"name\": \"English\"}, {\"iso...</td>\n",
       "      <td>Released</td>\n",
       "      <td>Enter the World of Pandora.</td>\n",
       "      <td>Avatar</td>\n",
       "      <td>7.2</td>\n",
       "      <td>11800</td>\n",
       "    </tr>\n",
       "  </tbody>\n",
       "</table>\n",
       "</div>"
      ],
      "text/plain": [
       "      budget                                             genres  \\\n",
       "0  237000000  [{\"id\": 28, \"name\": \"Action\"}, {\"id\": 12, \"nam...   \n",
       "\n",
       "                      homepage     id  \\\n",
       "0  http://www.avatarmovie.com/  19995   \n",
       "\n",
       "                                            keywords original_language  \\\n",
       "0  [{\"id\": 1463, \"name\": \"culture clash\"}, {\"id\":...                en   \n",
       "\n",
       "  original_title                                           overview  \\\n",
       "0         Avatar  In the 22nd century, a paraplegic Marine is di...   \n",
       "\n",
       "   popularity                               production_companies  \\\n",
       "0  150.437577  [{\"name\": \"Ingenious Film Partners\", \"id\": 289...   \n",
       "\n",
       "                                production_countries release_date     revenue  \\\n",
       "0  [{\"iso_3166_1\": \"US\", \"name\": \"United States o...   2009-12-10  2787965087   \n",
       "\n",
       "   runtime                                   spoken_languages    status  \\\n",
       "0    162.0  [{\"iso_639_1\": \"en\", \"name\": \"English\"}, {\"iso...  Released   \n",
       "\n",
       "                       tagline   title  vote_average  vote_count  \n",
       "0  Enter the World of Pandora.  Avatar           7.2       11800  "
      ]
     },
     "execution_count": 40,
     "metadata": {},
     "output_type": "execute_result"
    }
   ],
   "source": [
    "pd.set_option('display.max_columns', None)\n",
    "df.head(1)"
   ]
  },
  {
   "cell_type": "code",
   "execution_count": 42,
   "id": "9f82e1ef-3d00-46c4-b4ff-fb2d585c3f54",
   "metadata": {
    "tags": []
   },
   "outputs": [
    {
     "data": {
      "text/plain": [
       "(4803, 20)"
      ]
     },
     "execution_count": 42,
     "metadata": {},
     "output_type": "execute_result"
    }
   ],
   "source": [
    "# find the number of rows and columns\n",
    "df.shape"
   ]
  },
  {
   "cell_type": "markdown",
   "id": "ef1d4c75-0c31-4cf9-bb15-ec9b5cb8278d",
   "metadata": {},
   "source": [
    "There are 4803 rows and 20 columns."
   ]
  },
  {
   "cell_type": "code",
   "execution_count": 45,
   "id": "8e4ce2ad-a8e3-4bee-9b10-e6ff0cdcc254",
   "metadata": {
    "tags": []
   },
   "outputs": [
    {
     "data": {
      "text/plain": [
       "Index(['budget', 'genres', 'homepage', 'id', 'keywords', 'original_language',\n",
       "       'original_title', 'overview', 'popularity', 'production_companies',\n",
       "       'production_countries', 'release_date', 'revenue', 'runtime',\n",
       "       'spoken_languages', 'status', 'tagline', 'title', 'vote_average',\n",
       "       'vote_count'],\n",
       "      dtype='object')"
      ]
     },
     "execution_count": 45,
     "metadata": {},
     "output_type": "execute_result"
    }
   ],
   "source": [
    "# look at the column headers\n",
    "df.columns"
   ]
  },
  {
   "cell_type": "code",
   "execution_count": 47,
   "id": "b467bdd4-442e-4520-9227-22ac802a4a18",
   "metadata": {
    "tags": []
   },
   "outputs": [
    {
     "data": {
      "text/plain": [
       "budget                    int64\n",
       "genres                   object\n",
       "homepage                 object\n",
       "id                        int64\n",
       "keywords                 object\n",
       "original_language        object\n",
       "original_title           object\n",
       "overview                 object\n",
       "popularity              float64\n",
       "production_companies     object\n",
       "production_countries     object\n",
       "release_date             object\n",
       "revenue                   int64\n",
       "runtime                 float64\n",
       "spoken_languages         object\n",
       "status                   object\n",
       "tagline                  object\n",
       "title                    object\n",
       "vote_average            float64\n",
       "vote_count                int64\n",
       "dtype: object"
      ]
     },
     "execution_count": 47,
     "metadata": {},
     "output_type": "execute_result"
    }
   ],
   "source": [
    "# find the data types of the columns\n",
    "df.dtypes"
   ]
  },
  {
   "cell_type": "markdown",
   "id": "79a48132-39a0-41d5-b0d6-f6591019c703",
   "metadata": {
    "tags": []
   },
   "source": [
    "### Data Cleaning and Transformation <a class=\"anchor\" id=\"1.2\"></a>"
   ]
  },
  {
   "cell_type": "markdown",
   "id": "b9f143e4-dadf-414a-bb43-7e70a8450f65",
   "metadata": {},
   "source": [
    "#### Duplication <a class=\"anchor\" id=\"1.2.1\"></a>"
   ]
  },
  {
   "cell_type": "markdown",
   "id": "3d8aba58-d37a-4eab-8263-59152b2a8605",
   "metadata": {},
   "source": [
    "Check for duplicated rows."
   ]
  },
  {
   "cell_type": "code",
   "execution_count": 52,
   "id": "7f443e0b-e12b-42db-916c-b48d1818d193",
   "metadata": {
    "tags": []
   },
   "outputs": [
    {
     "data": {
      "text/plain": [
       "0"
      ]
     },
     "execution_count": 52,
     "metadata": {},
     "output_type": "execute_result"
    }
   ],
   "source": [
    "sum(df.duplicated())"
   ]
  },
  {
   "cell_type": "markdown",
   "id": "949f9443-df95-4dfe-b5de-a23e08c1bacc",
   "metadata": {},
   "source": [
    "The results indicate no duplicated rows."
   ]
  },
  {
   "cell_type": "markdown",
   "id": "d07b4c1a-ba2d-47bd-9663-e6a12d708666",
   "metadata": {},
   "source": [
    "Check for the number of unique values per column."
   ]
  },
  {
   "cell_type": "code",
   "execution_count": 56,
   "id": "e5f3f0f1-b175-4839-9ed3-ceaba284da93",
   "metadata": {
    "tags": []
   },
   "outputs": [
    {
     "data": {
      "text/plain": [
       "budget                   436\n",
       "genres                  1175\n",
       "homepage                1691\n",
       "id                      4803\n",
       "keywords                4222\n",
       "original_language         37\n",
       "original_title          4801\n",
       "overview                4800\n",
       "popularity              4802\n",
       "production_companies    3697\n",
       "production_countries     469\n",
       "release_date            3280\n",
       "revenue                 3297\n",
       "runtime                  156\n",
       "spoken_languages         544\n",
       "status                     3\n",
       "tagline                 3944\n",
       "title                   4800\n",
       "vote_average              71\n",
       "vote_count              1609\n",
       "dtype: int64"
      ]
     },
     "execution_count": 56,
     "metadata": {},
     "output_type": "execute_result"
    }
   ],
   "source": [
    "df.nunique()"
   ]
  },
  {
   "cell_type": "markdown",
   "id": "b88f6cde-2817-4a71-8db9-5f26378f3571",
   "metadata": {},
   "source": [
    "It is expected that id, original_title, ovrview, and title have 4803 unique values. Let's explore that further."
   ]
  },
  {
   "cell_type": "code",
   "execution_count": 59,
   "id": "93633973-9682-4992-b20c-09938410549b",
   "metadata": {
    "tags": []
   },
   "outputs": [
    {
     "data": {
      "text/html": [
       "<div>\n",
       "<style scoped>\n",
       "    .dataframe tbody tr th:only-of-type {\n",
       "        vertical-align: middle;\n",
       "    }\n",
       "\n",
       "    .dataframe tbody tr th {\n",
       "        vertical-align: top;\n",
       "    }\n",
       "\n",
       "    .dataframe thead th {\n",
       "        text-align: right;\n",
       "    }\n",
       "</style>\n",
       "<table border=\"1\" class=\"dataframe\">\n",
       "  <thead>\n",
       "    <tr style=\"text-align: right;\">\n",
       "      <th></th>\n",
       "      <th>id</th>\n",
       "    </tr>\n",
       "    <tr>\n",
       "      <th>original_title</th>\n",
       "      <th></th>\n",
       "    </tr>\n",
       "  </thead>\n",
       "  <tbody>\n",
       "    <tr>\n",
       "      <th>Batman</th>\n",
       "      <td>2</td>\n",
       "    </tr>\n",
       "    <tr>\n",
       "      <th>Out of the Blue</th>\n",
       "      <td>2</td>\n",
       "    </tr>\n",
       "  </tbody>\n",
       "</table>\n",
       "</div>"
      ],
      "text/plain": [
       "                 id\n",
       "original_title     \n",
       "Batman            2\n",
       "Out of the Blue   2"
      ]
     },
     "execution_count": 59,
     "metadata": {},
     "output_type": "execute_result"
    }
   ],
   "source": [
    "# find where there is more than 1 of the same 'original_title'\n",
    "dup_orig_title = df.groupby('original_title')[['id']].count()\n",
    "dup_orig_title[dup_orig_title['id'] > 1].copy()"
   ]
  },
  {
   "cell_type": "markdown",
   "id": "c49a5216-06ea-42a3-822a-333565cbd2e2",
   "metadata": {},
   "source": [
    "Batman and Out of the Blue are indicated to be duplicated, with two entries each. Let's check."
   ]
  },
  {
   "cell_type": "code",
   "execution_count": 62,
   "id": "15724f87-f113-4167-ae5b-ba0238de82cd",
   "metadata": {
    "tags": []
   },
   "outputs": [
    {
     "data": {
      "text/html": [
       "<div>\n",
       "<style scoped>\n",
       "    .dataframe tbody tr th:only-of-type {\n",
       "        vertical-align: middle;\n",
       "    }\n",
       "\n",
       "    .dataframe tbody tr th {\n",
       "        vertical-align: top;\n",
       "    }\n",
       "\n",
       "    .dataframe thead th {\n",
       "        text-align: right;\n",
       "    }\n",
       "</style>\n",
       "<table border=\"1\" class=\"dataframe\">\n",
       "  <thead>\n",
       "    <tr style=\"text-align: right;\">\n",
       "      <th></th>\n",
       "      <th>budget</th>\n",
       "      <th>genres</th>\n",
       "      <th>homepage</th>\n",
       "      <th>id</th>\n",
       "      <th>keywords</th>\n",
       "      <th>original_language</th>\n",
       "      <th>original_title</th>\n",
       "      <th>overview</th>\n",
       "      <th>popularity</th>\n",
       "      <th>production_companies</th>\n",
       "      <th>production_countries</th>\n",
       "      <th>release_date</th>\n",
       "      <th>revenue</th>\n",
       "      <th>runtime</th>\n",
       "      <th>spoken_languages</th>\n",
       "      <th>status</th>\n",
       "      <th>tagline</th>\n",
       "      <th>title</th>\n",
       "      <th>vote_average</th>\n",
       "      <th>vote_count</th>\n",
       "    </tr>\n",
       "  </thead>\n",
       "  <tbody>\n",
       "    <tr>\n",
       "      <th>1359</th>\n",
       "      <td>35000000</td>\n",
       "      <td>[{\"id\": 14, \"name\": \"Fantasy\"}, {\"id\": 28, \"na...</td>\n",
       "      <td>NaN</td>\n",
       "      <td>268</td>\n",
       "      <td>[{\"id\": 848, \"name\": \"double life\"}, {\"id\": 84...</td>\n",
       "      <td>en</td>\n",
       "      <td>Batman</td>\n",
       "      <td>The Dark Knight of Gotham City begins his war ...</td>\n",
       "      <td>44.104469</td>\n",
       "      <td>[{\"name\": \"PolyGram Filmed Entertainment\", \"id...</td>\n",
       "      <td>[{\"iso_3166_1\": \"GB\", \"name\": \"United Kingdom\"...</td>\n",
       "      <td>1989-06-23</td>\n",
       "      <td>411348924</td>\n",
       "      <td>126.0</td>\n",
       "      <td>[{\"iso_639_1\": \"en\", \"name\": \"English\"}, {\"iso...</td>\n",
       "      <td>Released</td>\n",
       "      <td>Have you ever danced with the devil in the pal...</td>\n",
       "      <td>Batman</td>\n",
       "      <td>7.0</td>\n",
       "      <td>2096</td>\n",
       "    </tr>\n",
       "    <tr>\n",
       "      <th>3647</th>\n",
       "      <td>0</td>\n",
       "      <td>[{\"id\": 18, \"name\": \"Drama\"}]</td>\n",
       "      <td>NaN</td>\n",
       "      <td>39269</td>\n",
       "      <td>[{\"id\": 4470, \"name\": \"punk\"}, {\"id\": 10183, \"...</td>\n",
       "      <td>en</td>\n",
       "      <td>Out of the Blue</td>\n",
       "      <td>Dennis Hopper is a hard-drinking truck driver ...</td>\n",
       "      <td>0.679351</td>\n",
       "      <td>[{\"name\": \"Robson Street\", \"id\": 71953}]</td>\n",
       "      <td>[{\"iso_3166_1\": \"CA\", \"name\": \"Canada\"}]</td>\n",
       "      <td>1980-05-01</td>\n",
       "      <td>0</td>\n",
       "      <td>94.0</td>\n",
       "      <td>[{\"iso_639_1\": \"en\", \"name\": \"English\"}]</td>\n",
       "      <td>Released</td>\n",
       "      <td>A harrowing drama from the director of Easy Rider</td>\n",
       "      <td>Out of the Blue</td>\n",
       "      <td>6.5</td>\n",
       "      <td>17</td>\n",
       "    </tr>\n",
       "    <tr>\n",
       "      <th>3693</th>\n",
       "      <td>0</td>\n",
       "      <td>[{\"id\": 18, \"name\": \"Drama\"}]</td>\n",
       "      <td>NaN</td>\n",
       "      <td>10844</td>\n",
       "      <td>[{\"id\": 2658, \"name\": \"new zealand\"}, {\"id\": 3...</td>\n",
       "      <td>en</td>\n",
       "      <td>Out of the Blue</td>\n",
       "      <td>Ordinary people find extraordinary courage in ...</td>\n",
       "      <td>0.706355</td>\n",
       "      <td>[]</td>\n",
       "      <td>[{\"iso_3166_1\": \"NZ\", \"name\": \"New Zealand\"}]</td>\n",
       "      <td>2006-10-12</td>\n",
       "      <td>0</td>\n",
       "      <td>103.0</td>\n",
       "      <td>[{\"iso_639_1\": \"en\", \"name\": \"English\"}]</td>\n",
       "      <td>Released</td>\n",
       "      <td>The true story of a small town massacre</td>\n",
       "      <td>Out of the Blue</td>\n",
       "      <td>5.9</td>\n",
       "      <td>18</td>\n",
       "    </tr>\n",
       "    <tr>\n",
       "      <th>4267</th>\n",
       "      <td>1377800</td>\n",
       "      <td>[{\"id\": 10751, \"name\": \"Family\"}, {\"id\": 12, \"...</td>\n",
       "      <td>NaN</td>\n",
       "      <td>2661</td>\n",
       "      <td>[{\"id\": 339, \"name\": \"submarine\"}, {\"id\": 849,...</td>\n",
       "      <td>en</td>\n",
       "      <td>Batman</td>\n",
       "      <td>The Dynamic Duo faces four super-villains who ...</td>\n",
       "      <td>9.815394</td>\n",
       "      <td>[{\"name\": \"Twentieth Century Fox Film Corporat...</td>\n",
       "      <td>[{\"iso_3166_1\": \"US\", \"name\": \"United States o...</td>\n",
       "      <td>1966-07-30</td>\n",
       "      <td>0</td>\n",
       "      <td>105.0</td>\n",
       "      <td>[{\"iso_639_1\": \"en\", \"name\": \"English\"}]</td>\n",
       "      <td>Released</td>\n",
       "      <td>He's Here Big As Life In A Real Bat-Epic</td>\n",
       "      <td>Batman</td>\n",
       "      <td>6.1</td>\n",
       "      <td>203</td>\n",
       "    </tr>\n",
       "  </tbody>\n",
       "</table>\n",
       "</div>"
      ],
      "text/plain": [
       "        budget                                             genres homepage  \\\n",
       "1359  35000000  [{\"id\": 14, \"name\": \"Fantasy\"}, {\"id\": 28, \"na...      NaN   \n",
       "3647         0                      [{\"id\": 18, \"name\": \"Drama\"}]      NaN   \n",
       "3693         0                      [{\"id\": 18, \"name\": \"Drama\"}]      NaN   \n",
       "4267   1377800  [{\"id\": 10751, \"name\": \"Family\"}, {\"id\": 12, \"...      NaN   \n",
       "\n",
       "         id                                           keywords  \\\n",
       "1359    268  [{\"id\": 848, \"name\": \"double life\"}, {\"id\": 84...   \n",
       "3647  39269  [{\"id\": 4470, \"name\": \"punk\"}, {\"id\": 10183, \"...   \n",
       "3693  10844  [{\"id\": 2658, \"name\": \"new zealand\"}, {\"id\": 3...   \n",
       "4267   2661  [{\"id\": 339, \"name\": \"submarine\"}, {\"id\": 849,...   \n",
       "\n",
       "     original_language   original_title  \\\n",
       "1359                en           Batman   \n",
       "3647                en  Out of the Blue   \n",
       "3693                en  Out of the Blue   \n",
       "4267                en           Batman   \n",
       "\n",
       "                                               overview  popularity  \\\n",
       "1359  The Dark Knight of Gotham City begins his war ...   44.104469   \n",
       "3647  Dennis Hopper is a hard-drinking truck driver ...    0.679351   \n",
       "3693  Ordinary people find extraordinary courage in ...    0.706355   \n",
       "4267  The Dynamic Duo faces four super-villains who ...    9.815394   \n",
       "\n",
       "                                   production_companies  \\\n",
       "1359  [{\"name\": \"PolyGram Filmed Entertainment\", \"id...   \n",
       "3647           [{\"name\": \"Robson Street\", \"id\": 71953}]   \n",
       "3693                                                 []   \n",
       "4267  [{\"name\": \"Twentieth Century Fox Film Corporat...   \n",
       "\n",
       "                                   production_countries release_date  \\\n",
       "1359  [{\"iso_3166_1\": \"GB\", \"name\": \"United Kingdom\"...   1989-06-23   \n",
       "3647           [{\"iso_3166_1\": \"CA\", \"name\": \"Canada\"}]   1980-05-01   \n",
       "3693      [{\"iso_3166_1\": \"NZ\", \"name\": \"New Zealand\"}]   2006-10-12   \n",
       "4267  [{\"iso_3166_1\": \"US\", \"name\": \"United States o...   1966-07-30   \n",
       "\n",
       "        revenue  runtime                                   spoken_languages  \\\n",
       "1359  411348924    126.0  [{\"iso_639_1\": \"en\", \"name\": \"English\"}, {\"iso...   \n",
       "3647          0     94.0           [{\"iso_639_1\": \"en\", \"name\": \"English\"}]   \n",
       "3693          0    103.0           [{\"iso_639_1\": \"en\", \"name\": \"English\"}]   \n",
       "4267          0    105.0           [{\"iso_639_1\": \"en\", \"name\": \"English\"}]   \n",
       "\n",
       "        status                                            tagline  \\\n",
       "1359  Released  Have you ever danced with the devil in the pal...   \n",
       "3647  Released  A harrowing drama from the director of Easy Rider   \n",
       "3693  Released            The true story of a small town massacre   \n",
       "4267  Released           He's Here Big As Life In A Real Bat-Epic   \n",
       "\n",
       "                title  vote_average  vote_count  \n",
       "1359           Batman           7.0        2096  \n",
       "3647  Out of the Blue           6.5          17  \n",
       "3693  Out of the Blue           5.9          18  \n",
       "4267           Batman           6.1         203  "
      ]
     },
     "execution_count": 62,
     "metadata": {},
     "output_type": "execute_result"
    }
   ],
   "source": [
    "# apply a mask to find the Batman and Out of the Blue original_titles\n",
    "df[(df.original_title == 'Batman') | (df.original_title == 'Out of the Blue')]"
   ]
  },
  {
   "cell_type": "markdown",
   "id": "45de7279-b7c2-435f-ba40-07cbcbfca035",
   "metadata": {},
   "source": [
    "From the above table we can see that though the original titles are the same, the rest of the row is not, therefore there is no duplication."
   ]
  },
  {
   "cell_type": "markdown",
   "id": "fb8f13e2-b356-4e65-bb69-23fd76fcccdb",
   "metadata": {},
   "source": [
    "Oddly, the number of original titles and titles do not match. Let's look into titles further."
   ]
  },
  {
   "cell_type": "code",
   "execution_count": 66,
   "id": "bc3e357b-6762-4a39-893f-62d4da2a7b4b",
   "metadata": {
    "tags": []
   },
   "outputs": [
    {
     "data": {
      "text/html": [
       "<div>\n",
       "<style scoped>\n",
       "    .dataframe tbody tr th:only-of-type {\n",
       "        vertical-align: middle;\n",
       "    }\n",
       "\n",
       "    .dataframe tbody tr th {\n",
       "        vertical-align: top;\n",
       "    }\n",
       "\n",
       "    .dataframe thead th {\n",
       "        text-align: right;\n",
       "    }\n",
       "</style>\n",
       "<table border=\"1\" class=\"dataframe\">\n",
       "  <thead>\n",
       "    <tr style=\"text-align: right;\">\n",
       "      <th></th>\n",
       "      <th>id</th>\n",
       "    </tr>\n",
       "    <tr>\n",
       "      <th>title</th>\n",
       "      <th></th>\n",
       "    </tr>\n",
       "  </thead>\n",
       "  <tbody>\n",
       "    <tr>\n",
       "      <th>Batman</th>\n",
       "      <td>2</td>\n",
       "    </tr>\n",
       "    <tr>\n",
       "      <th>Out of the Blue</th>\n",
       "      <td>2</td>\n",
       "    </tr>\n",
       "    <tr>\n",
       "      <th>The Host</th>\n",
       "      <td>2</td>\n",
       "    </tr>\n",
       "  </tbody>\n",
       "</table>\n",
       "</div>"
      ],
      "text/plain": [
       "                 id\n",
       "title              \n",
       "Batman            2\n",
       "Out of the Blue   2\n",
       "The Host          2"
      ]
     },
     "execution_count": 66,
     "metadata": {},
     "output_type": "execute_result"
    }
   ],
   "source": [
    "# find where there is more than 1 of the same 'title'\n",
    "dup_title = df.groupby('title')[['id']].count()\n",
    "dup_title[dup_title['id'] > 1].copy()"
   ]
  },
  {
   "cell_type": "markdown",
   "id": "da4eaeb5-cb6d-4c33-8027-ef381ef37a65",
   "metadata": {},
   "source": [
    "Batman and Out of the Blue are expected, but The Host is new. We can explore that further."
   ]
  },
  {
   "cell_type": "code",
   "execution_count": 69,
   "id": "3ef921e0-40a3-46a1-ad7a-438c8b0a3fb8",
   "metadata": {
    "tags": []
   },
   "outputs": [
    {
     "data": {
      "text/html": [
       "<div>\n",
       "<style scoped>\n",
       "    .dataframe tbody tr th:only-of-type {\n",
       "        vertical-align: middle;\n",
       "    }\n",
       "\n",
       "    .dataframe tbody tr th {\n",
       "        vertical-align: top;\n",
       "    }\n",
       "\n",
       "    .dataframe thead th {\n",
       "        text-align: right;\n",
       "    }\n",
       "</style>\n",
       "<table border=\"1\" class=\"dataframe\">\n",
       "  <thead>\n",
       "    <tr style=\"text-align: right;\">\n",
       "      <th></th>\n",
       "      <th>budget</th>\n",
       "      <th>genres</th>\n",
       "      <th>homepage</th>\n",
       "      <th>id</th>\n",
       "      <th>keywords</th>\n",
       "      <th>original_language</th>\n",
       "      <th>original_title</th>\n",
       "      <th>overview</th>\n",
       "      <th>popularity</th>\n",
       "      <th>production_companies</th>\n",
       "      <th>production_countries</th>\n",
       "      <th>release_date</th>\n",
       "      <th>revenue</th>\n",
       "      <th>runtime</th>\n",
       "      <th>spoken_languages</th>\n",
       "      <th>status</th>\n",
       "      <th>tagline</th>\n",
       "      <th>title</th>\n",
       "      <th>vote_average</th>\n",
       "      <th>vote_count</th>\n",
       "    </tr>\n",
       "  </thead>\n",
       "  <tbody>\n",
       "    <tr>\n",
       "      <th>972</th>\n",
       "      <td>44000000</td>\n",
       "      <td>[{\"id\": 28, \"name\": \"Action\"}, {\"id\": 12, \"nam...</td>\n",
       "      <td>NaN</td>\n",
       "      <td>72710</td>\n",
       "      <td>[{\"id\": 818, \"name\": \"based on novel\"}, {\"id\":...</td>\n",
       "      <td>en</td>\n",
       "      <td>The Host</td>\n",
       "      <td>A parasitic alien soul is injected into the bo...</td>\n",
       "      <td>42.933027</td>\n",
       "      <td>[{\"name\": \"Nick Wechsler Productions\", \"id\": 8...</td>\n",
       "      <td>[{\"iso_3166_1\": \"US\", \"name\": \"United States o...</td>\n",
       "      <td>2013-03-22</td>\n",
       "      <td>63327201</td>\n",
       "      <td>125.0</td>\n",
       "      <td>[{\"iso_639_1\": \"en\", \"name\": \"English\"}]</td>\n",
       "      <td>Released</td>\n",
       "      <td>You will be one of us</td>\n",
       "      <td>The Host</td>\n",
       "      <td>6.0</td>\n",
       "      <td>1817</td>\n",
       "    </tr>\n",
       "    <tr>\n",
       "      <th>2877</th>\n",
       "      <td>11000000</td>\n",
       "      <td>[{\"id\": 27, \"name\": \"Horror\"}, {\"id\": 18, \"nam...</td>\n",
       "      <td>http://www.hostmovie.com/</td>\n",
       "      <td>1255</td>\n",
       "      <td>[{\"id\": 1261, \"name\": \"river\"}, {\"id\": 1880, \"...</td>\n",
       "      <td>ko</td>\n",
       "      <td>괴물</td>\n",
       "      <td>Gang-du is a dim-witted man working at his fat...</td>\n",
       "      <td>27.655270</td>\n",
       "      <td>[{\"name\": \"Cineclick Asia\", \"id\": 685}, {\"name...</td>\n",
       "      <td>[{\"iso_3166_1\": \"KR\", \"name\": \"South Korea\"}]</td>\n",
       "      <td>2006-07-27</td>\n",
       "      <td>88489643</td>\n",
       "      <td>119.0</td>\n",
       "      <td>[{\"iso_639_1\": \"ko\", \"name\": \"\\ud55c\\uad6d\\uc5...</td>\n",
       "      <td>Released</td>\n",
       "      <td>Monsters are real.</td>\n",
       "      <td>The Host</td>\n",
       "      <td>6.7</td>\n",
       "      <td>537</td>\n",
       "    </tr>\n",
       "  </tbody>\n",
       "</table>\n",
       "</div>"
      ],
      "text/plain": [
       "        budget                                             genres  \\\n",
       "972   44000000  [{\"id\": 28, \"name\": \"Action\"}, {\"id\": 12, \"nam...   \n",
       "2877  11000000  [{\"id\": 27, \"name\": \"Horror\"}, {\"id\": 18, \"nam...   \n",
       "\n",
       "                       homepage     id  \\\n",
       "972                         NaN  72710   \n",
       "2877  http://www.hostmovie.com/   1255   \n",
       "\n",
       "                                               keywords original_language  \\\n",
       "972   [{\"id\": 818, \"name\": \"based on novel\"}, {\"id\":...                en   \n",
       "2877  [{\"id\": 1261, \"name\": \"river\"}, {\"id\": 1880, \"...                ko   \n",
       "\n",
       "     original_title                                           overview  \\\n",
       "972        The Host  A parasitic alien soul is injected into the bo...   \n",
       "2877             괴물  Gang-du is a dim-witted man working at his fat...   \n",
       "\n",
       "      popularity                               production_companies  \\\n",
       "972    42.933027  [{\"name\": \"Nick Wechsler Productions\", \"id\": 8...   \n",
       "2877   27.655270  [{\"name\": \"Cineclick Asia\", \"id\": 685}, {\"name...   \n",
       "\n",
       "                                   production_countries release_date  \\\n",
       "972   [{\"iso_3166_1\": \"US\", \"name\": \"United States o...   2013-03-22   \n",
       "2877      [{\"iso_3166_1\": \"KR\", \"name\": \"South Korea\"}]   2006-07-27   \n",
       "\n",
       "       revenue  runtime                                   spoken_languages  \\\n",
       "972   63327201    125.0           [{\"iso_639_1\": \"en\", \"name\": \"English\"}]   \n",
       "2877  88489643    119.0  [{\"iso_639_1\": \"ko\", \"name\": \"\\ud55c\\uad6d\\uc5...   \n",
       "\n",
       "        status                tagline     title  vote_average  vote_count  \n",
       "972   Released  You will be one of us  The Host           6.0        1817  \n",
       "2877  Released     Monsters are real.  The Host           6.7         537  "
      ]
     },
     "execution_count": 69,
     "metadata": {},
     "output_type": "execute_result"
    }
   ],
   "source": [
    "# apply a mask to find The Host movie title\n",
    "df[df.title == 'The Host']"
   ]
  },
  {
   "cell_type": "markdown",
   "id": "91b65b8b-fb2a-4b58-86de-f3a9e7005147",
   "metadata": {},
   "source": [
    "The Host did not show up as duplicated for the original_title as one entry was in English and the other in Korean. From looking at the table, there is no duplication for this movie."
   ]
  },
  {
   "cell_type": "markdown",
   "id": "bc1920d1-f9d9-4d8a-b005-82b59c693d81",
   "metadata": {},
   "source": [
    "As indicated when looking at the number of unique values in the columns, performed above, the status column has three unique values."
   ]
  },
  {
   "cell_type": "markdown",
   "id": "a8c3ab7e-e24f-4fc9-b570-e96c24e69939",
   "metadata": {},
   "source": [
    "#### Column Transformations <a class=\"anchor\" id=\"1.2.2\"></a>"
   ]
  },
  {
   "cell_type": "code",
   "execution_count": 74,
   "id": "ec3a07c9-64ff-4755-81b4-e41daa716025",
   "metadata": {
    "tags": []
   },
   "outputs": [
    {
     "data": {
      "text/plain": [
       "array(['Released', 'Post Production', 'Rumored'], dtype=object)"
      ]
     },
     "execution_count": 74,
     "metadata": {},
     "output_type": "execute_result"
    }
   ],
   "source": [
    "# find unique values for status column\n",
    "df.status.unique()"
   ]
  },
  {
   "cell_type": "code",
   "execution_count": 76,
   "id": "17ad40fa-577f-4e88-8180-62a3290a5a5f",
   "metadata": {
    "tags": []
   },
   "outputs": [
    {
     "data": {
      "text/plain": [
       "status\n",
       "Released           4795\n",
       "Rumored               5\n",
       "Post Production       3\n",
       "Name: count, dtype: int64"
      ]
     },
     "execution_count": 76,
     "metadata": {},
     "output_type": "execute_result"
    }
   ],
   "source": [
    "# find number of each\n",
    "df.status.value_counts()"
   ]
  },
  {
   "cell_type": "markdown",
   "id": "cb34d24d-6fa7-4d67-bc2c-3b1826f12923",
   "metadata": {},
   "source": [
    "The status values seem like categories. We can change the column data type to category."
   ]
  },
  {
   "cell_type": "code",
   "execution_count": 79,
   "id": "22daab3e-a223-4bc0-b467-57324c9c450c",
   "metadata": {
    "tags": []
   },
   "outputs": [],
   "source": [
    "# change data type to category\n",
    "df['status'] = df['status'].astype('category')"
   ]
  },
  {
   "cell_type": "code",
   "execution_count": 81,
   "id": "202451cb-543d-42e1-98cd-a0c1e7e55a51",
   "metadata": {
    "tags": []
   },
   "outputs": [
    {
     "data": {
      "text/plain": [
       "budget                     int64\n",
       "genres                    object\n",
       "homepage                  object\n",
       "id                         int64\n",
       "keywords                  object\n",
       "original_language         object\n",
       "original_title            object\n",
       "overview                  object\n",
       "popularity               float64\n",
       "production_companies      object\n",
       "production_countries      object\n",
       "release_date              object\n",
       "revenue                    int64\n",
       "runtime                  float64\n",
       "spoken_languages          object\n",
       "status                  category\n",
       "tagline                   object\n",
       "title                     object\n",
       "vote_average             float64\n",
       "vote_count                 int64\n",
       "dtype: object"
      ]
     },
     "execution_count": 81,
     "metadata": {},
     "output_type": "execute_result"
    }
   ],
   "source": [
    "# check data types\n",
    "df.dtypes"
   ]
  },
  {
   "cell_type": "markdown",
   "id": "4e652c95-8fb6-4000-882c-49c15e48cb55",
   "metadata": {},
   "source": [
    "Let's take a closer look at the columns where there seem to be lists in each row."
   ]
  },
  {
   "cell_type": "code",
   "execution_count": 84,
   "id": "90cce064-7940-4d07-aad0-39e5cfbbeb8a",
   "metadata": {
    "tags": []
   },
   "outputs": [
    {
     "data": {
      "text/plain": [
       "'[{\"id\": 28, \"name\": \"Action\"}, {\"id\": 12, \"name\": \"Adventure\"}, {\"id\": 14, \"name\": \"Fantasy\"}, {\"id\": 878, \"name\": \"Science Fiction\"}]'"
      ]
     },
     "execution_count": 84,
     "metadata": {},
     "output_type": "execute_result"
    }
   ],
   "source": [
    "df.genres[0]"
   ]
  },
  {
   "cell_type": "markdown",
   "id": "4d465141-6fa1-4f61-9a5a-cc4cd2b453e8",
   "metadata": {},
   "source": [
    "This column seems to have lists of dictionaries but with the data type string. Let's convert to a list for later use."
   ]
  },
  {
   "cell_type": "code",
   "execution_count": 87,
   "id": "752eb9e3-3a68-452e-9341-b08fcece0ed7",
   "metadata": {
    "tags": []
   },
   "outputs": [],
   "source": [
    "# code from Alex Caian, Digital Futures\n",
    "\n",
    "# Function to extract genres for each datapoint\n",
    "import ast ## This module can be used to evaluate literals, eg: transform string-lists back into lists\n",
    "def extract_genres(x): \n",
    "    x = ast.literal_eval(x) ## Transform '['name', 'id']' back into ['name', 'id']\n",
    "    Genres = [] ## Empty list to store the genres\n",
    "    \n",
    "    ''' Iterate through each dictionary '''\n",
    "    for item in x: ## iterate for each dictionary in our list\n",
    "        Genres.append(item['name']) ## Grab the 'name' key for each dictionary\n",
    "        \n",
    "    ''' Return the Genres'''\n",
    "    return Genres"
   ]
  },
  {
   "cell_type": "markdown",
   "id": "cf0a62e1-dc7a-4a69-a2a0-a1b2202ead5d",
   "metadata": {},
   "source": [
    "As all the lists in the columns we are looking at have a key called 'name' in, we can apply this function to all the columns we're interested in."
   ]
  },
  {
   "cell_type": "code",
   "execution_count": 90,
   "id": "d6473ed4-9d1f-4ac9-b6a9-cdf41fd1ee86",
   "metadata": {
    "tags": []
   },
   "outputs": [],
   "source": [
    "## Apply the function to all the columns we're interested in\n",
    "df['extracted_genres'] = df['genres'].apply(extract_genres)\n",
    "df['extract_production_comp'] = df['production_companies'].apply(extract_genres)\n",
    "df['extract_production_countries'] = df['production_countries'].apply(extract_genres)\n",
    "df['extract_spoken_languages'] = df['spoken_languages'].apply(extract_genres)\n",
    "df['extract_keywords'] = df['keywords'].apply(extract_genres)"
   ]
  },
  {
   "cell_type": "markdown",
   "id": "a37c3ff5-c0ac-47ca-83c6-657ef1da79c1",
   "metadata": {},
   "source": [
    "Change the release_date column to a datetime data type."
   ]
  },
  {
   "cell_type": "code",
   "execution_count": 93,
   "id": "44a93425-77a4-45f4-84b8-6189374417f8",
   "metadata": {
    "tags": []
   },
   "outputs": [
    {
     "data": {
      "text/plain": [
       "budget                                   int64\n",
       "genres                                  object\n",
       "homepage                                object\n",
       "id                                       int64\n",
       "keywords                                object\n",
       "original_language                       object\n",
       "original_title                          object\n",
       "overview                                object\n",
       "popularity                             float64\n",
       "production_companies                    object\n",
       "production_countries                    object\n",
       "release_date                    datetime64[ns]\n",
       "revenue                                  int64\n",
       "runtime                                float64\n",
       "spoken_languages                        object\n",
       "status                                category\n",
       "tagline                                 object\n",
       "title                                   object\n",
       "vote_average                           float64\n",
       "vote_count                               int64\n",
       "extracted_genres                        object\n",
       "extract_production_comp                 object\n",
       "extract_production_countries            object\n",
       "extract_spoken_languages                object\n",
       "extract_keywords                        object\n",
       "dtype: object"
      ]
     },
     "execution_count": 93,
     "metadata": {},
     "output_type": "execute_result"
    }
   ],
   "source": [
    "# Change the release_date column to a datetime data type\n",
    "df['release_date'] = pd.to_datetime(df['release_date'])\n",
    "df.dtypes"
   ]
  },
  {
   "cell_type": "markdown",
   "id": "1182ef82-c6e6-4efb-8e06-e394c2351d04",
   "metadata": {},
   "source": [
    "Drop the columns we just extracted lists from."
   ]
  },
  {
   "cell_type": "code",
   "execution_count": 96,
   "id": "4f240588-5609-4337-a340-dea9611b9055",
   "metadata": {
    "tags": []
   },
   "outputs": [],
   "source": [
    "# create a new dataframe\n",
    "df_n = df.copy()\n",
    "\n",
    "# drop the unecessary columns\n",
    "df_n.drop(columns=['genres', 'keywords', 'production_companies', 'production_countries', 'spoken_languages'], inplace=True)"
   ]
  },
  {
   "cell_type": "markdown",
   "id": "06eebc41-7095-4194-b970-5bffb39de9c7",
   "metadata": {
    "tags": []
   },
   "source": [
    "#### Check for Nulls <a class=\"anchor\" id=\"1.2.3\"></a>"
   ]
  },
  {
   "cell_type": "code",
   "execution_count": 99,
   "id": "348adc21-eb49-4200-81e9-564a4b0eb376",
   "metadata": {
    "tags": []
   },
   "outputs": [
    {
     "name": "stdout",
     "output_type": "stream",
     "text": [
      "<class 'pandas.core.frame.DataFrame'>\n",
      "RangeIndex: 4803 entries, 0 to 4802\n",
      "Data columns (total 20 columns):\n",
      " #   Column                        Non-Null Count  Dtype         \n",
      "---  ------                        --------------  -----         \n",
      " 0   budget                        4803 non-null   int64         \n",
      " 1   homepage                      1712 non-null   object        \n",
      " 2   id                            4803 non-null   int64         \n",
      " 3   original_language             4803 non-null   object        \n",
      " 4   original_title                4803 non-null   object        \n",
      " 5   overview                      4800 non-null   object        \n",
      " 6   popularity                    4803 non-null   float64       \n",
      " 7   release_date                  4802 non-null   datetime64[ns]\n",
      " 8   revenue                       4803 non-null   int64         \n",
      " 9   runtime                       4801 non-null   float64       \n",
      " 10  status                        4803 non-null   category      \n",
      " 11  tagline                       3959 non-null   object        \n",
      " 12  title                         4803 non-null   object        \n",
      " 13  vote_average                  4803 non-null   float64       \n",
      " 14  vote_count                    4803 non-null   int64         \n",
      " 15  extracted_genres              4803 non-null   object        \n",
      " 16  extract_production_comp       4803 non-null   object        \n",
      " 17  extract_production_countries  4803 non-null   object        \n",
      " 18  extract_spoken_languages      4803 non-null   object        \n",
      " 19  extract_keywords              4803 non-null   object        \n",
      "dtypes: category(1), datetime64[ns](1), float64(3), int64(4), object(11)\n",
      "memory usage: 717.9+ KB\n"
     ]
    }
   ],
   "source": [
    "# look at the non-null count per column\n",
    "df_n.info()"
   ]
  },
  {
   "cell_type": "markdown",
   "id": "e680e268-50f8-4463-840e-5b132eb2b681",
   "metadata": {},
   "source": [
    "There seem to be a lot of nulls in the homepage and tagline columns, with a few nulls in overview, release_date, and runtime too."
   ]
  },
  {
   "cell_type": "code",
   "execution_count": 102,
   "id": "aea0d0f5-6a49-484a-888f-3384b7c82590",
   "metadata": {
    "tags": []
   },
   "outputs": [
    {
     "data": {
      "text/plain": [
       "budget                             0\n",
       "homepage                        3091\n",
       "id                                 0\n",
       "original_language                  0\n",
       "original_title                     0\n",
       "overview                           3\n",
       "popularity                         0\n",
       "release_date                       1\n",
       "revenue                            0\n",
       "runtime                            2\n",
       "status                             0\n",
       "tagline                          844\n",
       "title                              0\n",
       "vote_average                       0\n",
       "vote_count                         0\n",
       "extracted_genres                   0\n",
       "extract_production_comp            0\n",
       "extract_production_countries       0\n",
       "extract_spoken_languages           0\n",
       "extract_keywords                   0\n",
       "dtype: int64"
      ]
     },
     "execution_count": 102,
     "metadata": {},
     "output_type": "execute_result"
    }
   ],
   "source": [
    "# look at the number of nulls per column\n",
    "df_n.isnull().sum()"
   ]
  },
  {
   "cell_type": "markdown",
   "id": "3daaa11c-c1b4-4a46-bb18-47314e97d928",
   "metadata": {},
   "source": [
    "It's okay if homepage and tagline are null as not every movie may have a a homepage or a tagline. We are not interested in these columns for analysis. Let's drop the columns."
   ]
  },
  {
   "cell_type": "code",
   "execution_count": 105,
   "id": "e2e178b6-98d9-4959-8c9b-08dbc0f0f035",
   "metadata": {
    "tags": []
   },
   "outputs": [],
   "source": [
    "# drop homepage and tagline\n",
    "df_n.drop(columns=['homepage', 'tagline'], inplace=True)"
   ]
  },
  {
   "cell_type": "markdown",
   "id": "391931f7-eb07-4ee6-ab53-2fe9c5571a8d",
   "metadata": {},
   "source": [
    "It is not necessary to drop the overview column as it has very few nulls, but the column is also one that we are not interested in analysing, therefore we will drop it."
   ]
  },
  {
   "cell_type": "code",
   "execution_count": 108,
   "id": "35aca38a-5577-4f50-99d5-e4a01dc2bb52",
   "metadata": {
    "tags": []
   },
   "outputs": [],
   "source": [
    "# drop overview\n",
    "df_n.drop(columns=['overview'], inplace=True)"
   ]
  },
  {
   "cell_type": "markdown",
   "id": "c5e86cdc-32c3-4caf-9755-0b005a34b800",
   "metadata": {},
   "source": [
    "Next, let's look at release_date and runtime."
   ]
  },
  {
   "cell_type": "code",
   "execution_count": 111,
   "id": "c5f1ecfd-d6e9-4875-a4b8-ba7420f07214",
   "metadata": {
    "tags": []
   },
   "outputs": [
    {
     "data": {
      "text/html": [
       "<div>\n",
       "<style scoped>\n",
       "    .dataframe tbody tr th:only-of-type {\n",
       "        vertical-align: middle;\n",
       "    }\n",
       "\n",
       "    .dataframe tbody tr th {\n",
       "        vertical-align: top;\n",
       "    }\n",
       "\n",
       "    .dataframe thead th {\n",
       "        text-align: right;\n",
       "    }\n",
       "</style>\n",
       "<table border=\"1\" class=\"dataframe\">\n",
       "  <thead>\n",
       "    <tr style=\"text-align: right;\">\n",
       "      <th></th>\n",
       "      <th>budget</th>\n",
       "      <th>id</th>\n",
       "      <th>original_language</th>\n",
       "      <th>original_title</th>\n",
       "      <th>popularity</th>\n",
       "      <th>release_date</th>\n",
       "      <th>revenue</th>\n",
       "      <th>runtime</th>\n",
       "      <th>status</th>\n",
       "      <th>title</th>\n",
       "      <th>vote_average</th>\n",
       "      <th>vote_count</th>\n",
       "      <th>extracted_genres</th>\n",
       "      <th>extract_production_comp</th>\n",
       "      <th>extract_production_countries</th>\n",
       "      <th>extract_spoken_languages</th>\n",
       "      <th>extract_keywords</th>\n",
       "    </tr>\n",
       "  </thead>\n",
       "  <tbody>\n",
       "    <tr>\n",
       "      <th>2656</th>\n",
       "      <td>15000000</td>\n",
       "      <td>370980</td>\n",
       "      <td>it</td>\n",
       "      <td>Chiamatemi Francesco - Il Papa della gente</td>\n",
       "      <td>0.738646</td>\n",
       "      <td>2015-12-03</td>\n",
       "      <td>0</td>\n",
       "      <td>NaN</td>\n",
       "      <td>Released</td>\n",
       "      <td>Chiamatemi Francesco - Il Papa della gente</td>\n",
       "      <td>7.3</td>\n",
       "      <td>12</td>\n",
       "      <td>[Drama]</td>\n",
       "      <td>[Taodue Film]</td>\n",
       "      <td>[Italy]</td>\n",
       "      <td>[Español]</td>\n",
       "      <td>[pope, biography]</td>\n",
       "    </tr>\n",
       "    <tr>\n",
       "      <th>4140</th>\n",
       "      <td>2</td>\n",
       "      <td>459488</td>\n",
       "      <td>en</td>\n",
       "      <td>To Be Frank, Sinatra at 100</td>\n",
       "      <td>0.050625</td>\n",
       "      <td>2015-12-12</td>\n",
       "      <td>0</td>\n",
       "      <td>NaN</td>\n",
       "      <td>Released</td>\n",
       "      <td>To Be Frank, Sinatra at 100</td>\n",
       "      <td>0.0</td>\n",
       "      <td>0</td>\n",
       "      <td>[Documentary]</td>\n",
       "      <td>[Eyeline Entertainment]</td>\n",
       "      <td>[United Kingdom]</td>\n",
       "      <td>[]</td>\n",
       "      <td>[music, actors, legendary perfomer, classic ho...</td>\n",
       "    </tr>\n",
       "    <tr>\n",
       "      <th>4553</th>\n",
       "      <td>0</td>\n",
       "      <td>380097</td>\n",
       "      <td>en</td>\n",
       "      <td>America Is Still the Place</td>\n",
       "      <td>0.000000</td>\n",
       "      <td>NaT</td>\n",
       "      <td>0</td>\n",
       "      <td>0.0</td>\n",
       "      <td>Released</td>\n",
       "      <td>America Is Still the Place</td>\n",
       "      <td>0.0</td>\n",
       "      <td>0</td>\n",
       "      <td>[]</td>\n",
       "      <td>[]</td>\n",
       "      <td>[]</td>\n",
       "      <td>[]</td>\n",
       "      <td>[]</td>\n",
       "    </tr>\n",
       "  </tbody>\n",
       "</table>\n",
       "</div>"
      ],
      "text/plain": [
       "        budget      id original_language  \\\n",
       "2656  15000000  370980                it   \n",
       "4140         2  459488                en   \n",
       "4553         0  380097                en   \n",
       "\n",
       "                                  original_title  popularity release_date  \\\n",
       "2656  Chiamatemi Francesco - Il Papa della gente    0.738646   2015-12-03   \n",
       "4140                 To Be Frank, Sinatra at 100    0.050625   2015-12-12   \n",
       "4553                  America Is Still the Place    0.000000          NaT   \n",
       "\n",
       "      revenue  runtime    status                                       title  \\\n",
       "2656        0      NaN  Released  Chiamatemi Francesco - Il Papa della gente   \n",
       "4140        0      NaN  Released                 To Be Frank, Sinatra at 100   \n",
       "4553        0      0.0  Released                  America Is Still the Place   \n",
       "\n",
       "      vote_average  vote_count extracted_genres  extract_production_comp  \\\n",
       "2656           7.3          12          [Drama]            [Taodue Film]   \n",
       "4140           0.0           0    [Documentary]  [Eyeline Entertainment]   \n",
       "4553           0.0           0               []                       []   \n",
       "\n",
       "     extract_production_countries extract_spoken_languages  \\\n",
       "2656                      [Italy]                [Español]   \n",
       "4140             [United Kingdom]                       []   \n",
       "4553                           []                       []   \n",
       "\n",
       "                                       extract_keywords  \n",
       "2656                                  [pope, biography]  \n",
       "4140  [music, actors, legendary perfomer, classic ho...  \n",
       "4553                                                 []  "
      ]
     },
     "execution_count": 111,
     "metadata": {},
     "output_type": "execute_result"
    }
   ],
   "source": [
    "# apply mask to find nulls in release_date and runtime\n",
    "df_n[(df_n['release_date'].isnull()) | (df_n['runtime'].isnull())]"
   ]
  },
  {
   "cell_type": "markdown",
   "id": "16eb2e9a-22f0-442c-9374-b7a9793109ba",
   "metadata": {},
   "source": [
    "These rows make up a small portion of the data. We will drop the rows."
   ]
  },
  {
   "cell_type": "code",
   "execution_count": 114,
   "id": "3204cf06-5425-4488-a652-f9e2dbda013f",
   "metadata": {
    "tags": []
   },
   "outputs": [],
   "source": [
    "# drop the rows with nulls in release_date and runtime\n",
    "df_n.dropna(\n",
    "    axis = 0, # default (rows)\n",
    "    how = 'any', # default \n",
    "    subset = ['runtime', 'release_date'],   # subset tells dropna which columns to consider\n",
    "    inplace = True # makes change permanent\n",
    ")"
   ]
  },
  {
   "cell_type": "code",
   "execution_count": 116,
   "id": "88aaf1ef-0562-4469-b994-f6e3edf1adac",
   "metadata": {
    "tags": []
   },
   "outputs": [
    {
     "data": {
      "text/plain": [
       "(4800, 17)"
      ]
     },
     "execution_count": 116,
     "metadata": {},
     "output_type": "execute_result"
    }
   ],
   "source": [
    "# Check rows and columns\n",
    "df_n.shape"
   ]
  },
  {
   "cell_type": "markdown",
   "id": "5f33bd10-055e-4594-af0c-5b6729a91ae3",
   "metadata": {},
   "source": [
    "We now have 4800 rows and 17 columns."
   ]
  },
  {
   "cell_type": "markdown",
   "id": "7e12e816-aabb-403f-a899-32250af86565",
   "metadata": {},
   "source": [
    "## Exploratory Data Analysis <a class=\"anchor\" id=\"2\"></a>"
   ]
  },
  {
   "cell_type": "markdown",
   "id": "7a02e798-fdf4-4d6b-bb05-191329b07911",
   "metadata": {},
   "source": [
    "Let's describe the data."
   ]
  },
  {
   "cell_type": "code",
   "execution_count": 121,
   "id": "e82d1585-12c5-44b0-877b-e040a53bed02",
   "metadata": {
    "tags": []
   },
   "outputs": [
    {
     "data": {
      "text/html": [
       "<div>\n",
       "<style scoped>\n",
       "    .dataframe tbody tr th:only-of-type {\n",
       "        vertical-align: middle;\n",
       "    }\n",
       "\n",
       "    .dataframe tbody tr th {\n",
       "        vertical-align: top;\n",
       "    }\n",
       "\n",
       "    .dataframe thead th {\n",
       "        text-align: right;\n",
       "    }\n",
       "</style>\n",
       "<table border=\"1\" class=\"dataframe\">\n",
       "  <thead>\n",
       "    <tr style=\"text-align: right;\">\n",
       "      <th></th>\n",
       "      <th>budget</th>\n",
       "      <th>id</th>\n",
       "      <th>popularity</th>\n",
       "      <th>release_date</th>\n",
       "      <th>revenue</th>\n",
       "      <th>runtime</th>\n",
       "      <th>vote_average</th>\n",
       "      <th>vote_count</th>\n",
       "    </tr>\n",
       "  </thead>\n",
       "  <tbody>\n",
       "    <tr>\n",
       "      <th>count</th>\n",
       "      <td>4.800000e+03</td>\n",
       "      <td>4800.000000</td>\n",
       "      <td>4800.000000</td>\n",
       "      <td>4800</td>\n",
       "      <td>4.800000e+03</td>\n",
       "      <td>4800.000000</td>\n",
       "      <td>4800.000000</td>\n",
       "      <td>4800.000000</td>\n",
       "    </tr>\n",
       "    <tr>\n",
       "      <th>mean</th>\n",
       "      <td>2.906007e+07</td>\n",
       "      <td>56949.011667</td>\n",
       "      <td>21.505569</td>\n",
       "      <td>2002-12-26 00:29:24</td>\n",
       "      <td>8.231205e+07</td>\n",
       "      <td>106.898125</td>\n",
       "      <td>6.094458</td>\n",
       "      <td>690.646875</td>\n",
       "    </tr>\n",
       "    <tr>\n",
       "      <th>min</th>\n",
       "      <td>0.000000e+00</td>\n",
       "      <td>5.000000</td>\n",
       "      <td>0.000372</td>\n",
       "      <td>1916-09-04 00:00:00</td>\n",
       "      <td>0.000000e+00</td>\n",
       "      <td>0.000000</td>\n",
       "      <td>0.000000</td>\n",
       "      <td>0.000000</td>\n",
       "    </tr>\n",
       "    <tr>\n",
       "      <th>25%</th>\n",
       "      <td>8.000000e+05</td>\n",
       "      <td>9012.750000</td>\n",
       "      <td>4.682212</td>\n",
       "      <td>1999-07-12 18:00:00</td>\n",
       "      <td>0.000000e+00</td>\n",
       "      <td>94.000000</td>\n",
       "      <td>5.600000</td>\n",
       "      <td>54.000000</td>\n",
       "    </tr>\n",
       "    <tr>\n",
       "      <th>50%</th>\n",
       "      <td>1.500000e+07</td>\n",
       "      <td>14623.500000</td>\n",
       "      <td>12.928897</td>\n",
       "      <td>2005-09-30 12:00:00</td>\n",
       "      <td>1.918199e+07</td>\n",
       "      <td>103.000000</td>\n",
       "      <td>6.200000</td>\n",
       "      <td>236.000000</td>\n",
       "    </tr>\n",
       "    <tr>\n",
       "      <th>75%</th>\n",
       "      <td>4.000000e+07</td>\n",
       "      <td>58512.500000</td>\n",
       "      <td>28.350628</td>\n",
       "      <td>2011-02-14 12:00:00</td>\n",
       "      <td>9.293886e+07</td>\n",
       "      <td>118.000000</td>\n",
       "      <td>6.800000</td>\n",
       "      <td>737.250000</td>\n",
       "    </tr>\n",
       "    <tr>\n",
       "      <th>max</th>\n",
       "      <td>3.800000e+08</td>\n",
       "      <td>447027.000000</td>\n",
       "      <td>875.581305</td>\n",
       "      <td>2017-02-03 00:00:00</td>\n",
       "      <td>2.787965e+09</td>\n",
       "      <td>338.000000</td>\n",
       "      <td>10.000000</td>\n",
       "      <td>13752.000000</td>\n",
       "    </tr>\n",
       "    <tr>\n",
       "      <th>std</th>\n",
       "      <td>4.073029e+07</td>\n",
       "      <td>88292.839372</td>\n",
       "      <td>31.822163</td>\n",
       "      <td>NaN</td>\n",
       "      <td>1.628950e+08</td>\n",
       "      <td>22.561593</td>\n",
       "      <td>1.188366</td>\n",
       "      <td>1234.852449</td>\n",
       "    </tr>\n",
       "  </tbody>\n",
       "</table>\n",
       "</div>"
      ],
      "text/plain": [
       "             budget             id   popularity         release_date  \\\n",
       "count  4.800000e+03    4800.000000  4800.000000                 4800   \n",
       "mean   2.906007e+07   56949.011667    21.505569  2002-12-26 00:29:24   \n",
       "min    0.000000e+00       5.000000     0.000372  1916-09-04 00:00:00   \n",
       "25%    8.000000e+05    9012.750000     4.682212  1999-07-12 18:00:00   \n",
       "50%    1.500000e+07   14623.500000    12.928897  2005-09-30 12:00:00   \n",
       "75%    4.000000e+07   58512.500000    28.350628  2011-02-14 12:00:00   \n",
       "max    3.800000e+08  447027.000000   875.581305  2017-02-03 00:00:00   \n",
       "std    4.073029e+07   88292.839372    31.822163                  NaN   \n",
       "\n",
       "            revenue      runtime  vote_average    vote_count  \n",
       "count  4.800000e+03  4800.000000   4800.000000   4800.000000  \n",
       "mean   8.231205e+07   106.898125      6.094458    690.646875  \n",
       "min    0.000000e+00     0.000000      0.000000      0.000000  \n",
       "25%    0.000000e+00    94.000000      5.600000     54.000000  \n",
       "50%    1.918199e+07   103.000000      6.200000    236.000000  \n",
       "75%    9.293886e+07   118.000000      6.800000    737.250000  \n",
       "max    2.787965e+09   338.000000     10.000000  13752.000000  \n",
       "std    1.628950e+08    22.561593      1.188366   1234.852449  "
      ]
     },
     "execution_count": 121,
     "metadata": {},
     "output_type": "execute_result"
    }
   ],
   "source": [
    "df_n.describe()"
   ]
  },
  {
   "cell_type": "markdown",
   "id": "79de1a29-da36-48e3-bb00-ae07c7e521ff",
   "metadata": {},
   "source": [
    "The minimum values for budget, revenue, and runtime look odd. In the context of movies, 0 values are implausible."
   ]
  },
  {
   "cell_type": "markdown",
   "id": "0a2120ae-91ff-498c-b7ee-66c022614e13",
   "metadata": {},
   "source": [
    "### Zeros <a class=\"anchor\" id=\"2.2\"></a>"
   ]
  },
  {
   "cell_type": "markdown",
   "id": "bd44f1ef-f558-4f54-add2-96daa7437f3d",
   "metadata": {},
   "source": [
    "Let's count the number of zeros and produce a plot to show them per column."
   ]
  },
  {
   "cell_type": "code",
   "execution_count": 126,
   "id": "43c028ca-dcc0-4209-b136-ee449e9507ba",
   "metadata": {
    "tags": []
   },
   "outputs": [],
   "source": [
    "# count number of zeros per column\n",
    "count_zeros = df_n.isin([0]).sum(axis=0)\n",
    "count_zeros.sort_values(ascending=False, inplace=True)"
   ]
  },
  {
   "cell_type": "code",
   "execution_count": 238,
   "id": "bb2e564d-290e-4546-9ada-f42f3d55c446",
   "metadata": {
    "tags": []
   },
   "outputs": [
    {
     "data": {
      "image/png": "[encoded data removed]",
      "text/plain": [
       "<Figure size 640x480 with 1 Axes>"
      ]
     },
     "metadata": {},
     "output_type": "display_data"
    }
   ],
   "source": [
    "# produce a barplot\n",
    "\n",
    "sns.barplot(x= count_zeros.index,\n",
    "            y = count_zeros.values,\n",
    "             palette = 'rocket_r')\n",
    "\n",
    "plt.xticks(rotation=80,\n",
    "           horizontalalignment='right',\n",
    "           fontweight ='light',\n",
    "           fontsize ='large'\n",
    "           )\n",
    "\n",
    "plt.xlabel('Column in Dataframe')\n",
    "plt.ylabel('Count of Zeros')\n",
    "\n",
    "plt.title('Number of Zeros Per Column\\n')\n",
    "\n",
    "#plt.savefig('plot.png', dpi = 300, bbox_inches = 'tight') # saving the image to the working directory\n",
    "\n",
    "plt.show()"
   ]
  },
  {
   "cell_type": "code",
   "execution_count": 130,
   "id": "9e564fd9-7100-4fd7-8221-1315e296db81",
   "metadata": {
    "tags": []
   },
   "outputs": [
    {
     "data": {
      "text/plain": [
       "revenue                         1424\n",
       "budget                          1036\n",
       "vote_average                      61\n",
       "vote_count                        60\n",
       "runtime                           34\n",
       "extract_spoken_languages           0\n",
       "extract_production_countries       0\n",
       "extract_production_comp            0\n",
       "extracted_genres                   0\n",
       "status                             0\n",
       "title                              0\n",
       "id                                 0\n",
       "release_date                       0\n",
       "popularity                         0\n",
       "original_title                     0\n",
       "original_language                  0\n",
       "extract_keywords                   0\n",
       "dtype: int64"
      ]
     },
     "execution_count": 130,
     "metadata": {},
     "output_type": "execute_result"
    }
   ],
   "source": [
    "count_zeros"
   ]
  },
  {
   "cell_type": "markdown",
   "id": "3496a32f-2f04-4d11-85a6-4c6877d0fec8",
   "metadata": {},
   "source": [
    "There are 4800 rows in this data. Over 25% of the data has zeros where zeros are quite unexpected. A film's budget, revenue, and runtime are unlikely to be 0."
   ]
  },
  {
   "cell_type": "markdown",
   "id": "dbd67ad3-258e-40c1-bb99-98385a339965",
   "metadata": {},
   "source": [
    "Let's look at two films with a budget/revenue of zero and compare that to budget/revenue data found on the web."
   ]
  },
  {
   "cell_type": "code",
   "execution_count": 134,
   "id": "b76bf238-c62d-4ada-b669-ad57f6acc8ee",
   "metadata": {
    "tags": []
   },
   "outputs": [
    {
     "data": {
      "text/html": [
       "<div>\n",
       "<style scoped>\n",
       "    .dataframe tbody tr th:only-of-type {\n",
       "        vertical-align: middle;\n",
       "    }\n",
       "\n",
       "    .dataframe tbody tr th {\n",
       "        vertical-align: top;\n",
       "    }\n",
       "\n",
       "    .dataframe thead th {\n",
       "        text-align: right;\n",
       "    }\n",
       "</style>\n",
       "<table border=\"1\" class=\"dataframe\">\n",
       "  <thead>\n",
       "    <tr style=\"text-align: right;\">\n",
       "      <th></th>\n",
       "      <th>budget</th>\n",
       "      <th>id</th>\n",
       "      <th>original_language</th>\n",
       "      <th>original_title</th>\n",
       "      <th>popularity</th>\n",
       "      <th>release_date</th>\n",
       "      <th>revenue</th>\n",
       "      <th>runtime</th>\n",
       "      <th>status</th>\n",
       "      <th>title</th>\n",
       "      <th>vote_average</th>\n",
       "      <th>vote_count</th>\n",
       "      <th>extracted_genres</th>\n",
       "      <th>extract_production_comp</th>\n",
       "      <th>extract_production_countries</th>\n",
       "      <th>extract_spoken_languages</th>\n",
       "      <th>extract_keywords</th>\n",
       "    </tr>\n",
       "  </thead>\n",
       "  <tbody>\n",
       "    <tr>\n",
       "      <th>265</th>\n",
       "      <td>0</td>\n",
       "      <td>10588</td>\n",
       "      <td>en</td>\n",
       "      <td>The Cat in the Hat</td>\n",
       "      <td>18.251129</td>\n",
       "      <td>2003-11-21</td>\n",
       "      <td>0</td>\n",
       "      <td>82.0</td>\n",
       "      <td>Released</td>\n",
       "      <td>The Cat in the Hat</td>\n",
       "      <td>4.9</td>\n",
       "      <td>366</td>\n",
       "      <td>[Comedy, Fantasy, Family]</td>\n",
       "      <td>[Imagine Entertainment, DreamWorks SKG, Univer...</td>\n",
       "      <td>[United States of America]</td>\n",
       "      <td>[English]</td>\n",
       "      <td>[cat, brother sister relationship, boredom, ch...</td>\n",
       "    </tr>\n",
       "    <tr>\n",
       "      <th>406</th>\n",
       "      <td>0</td>\n",
       "      <td>51052</td>\n",
       "      <td>en</td>\n",
       "      <td>Arthur Christmas</td>\n",
       "      <td>19.836830</td>\n",
       "      <td>2011-02-22</td>\n",
       "      <td>0</td>\n",
       "      <td>97.0</td>\n",
       "      <td>Released</td>\n",
       "      <td>Arthur Christmas</td>\n",
       "      <td>6.7</td>\n",
       "      <td>333</td>\n",
       "      <td>[Drama, Animation, Family, Comedy]</td>\n",
       "      <td>[Columbia Pictures, Aardman Animations, Sony P...</td>\n",
       "      <td>[United States of America]</td>\n",
       "      <td>[English]</td>\n",
       "      <td>[holiday, santa claus, duringcreditsstinger, w...</td>\n",
       "    </tr>\n",
       "  </tbody>\n",
       "</table>\n",
       "</div>"
      ],
      "text/plain": [
       "     budget     id original_language      original_title  popularity  \\\n",
       "265       0  10588                en  The Cat in the Hat   18.251129   \n",
       "406       0  51052                en    Arthur Christmas   19.836830   \n",
       "\n",
       "    release_date  revenue  runtime    status               title  \\\n",
       "265   2003-11-21        0     82.0  Released  The Cat in the Hat   \n",
       "406   2011-02-22        0     97.0  Released    Arthur Christmas   \n",
       "\n",
       "     vote_average  vote_count                    extracted_genres  \\\n",
       "265           4.9         366           [Comedy, Fantasy, Family]   \n",
       "406           6.7         333  [Drama, Animation, Family, Comedy]   \n",
       "\n",
       "                               extract_production_comp  \\\n",
       "265  [Imagine Entertainment, DreamWorks SKG, Univer...   \n",
       "406  [Columbia Pictures, Aardman Animations, Sony P...   \n",
       "\n",
       "    extract_production_countries extract_spoken_languages  \\\n",
       "265   [United States of America]                [English]   \n",
       "406   [United States of America]                [English]   \n",
       "\n",
       "                                      extract_keywords  \n",
       "265  [cat, brother sister relationship, boredom, ch...  \n",
       "406  [holiday, santa claus, duringcreditsstinger, w...  "
      ]
     },
     "execution_count": 134,
     "metadata": {},
     "output_type": "execute_result"
    }
   ],
   "source": [
    "df_n[(df_n['original_title'] == 'The Cat in the Hat') | (df_n['original_title'] == 'Arthur Christmas') ]"
   ]
  },
  {
   "cell_type": "markdown",
   "id": "7918c570-2313-4ab2-85bb-7f4509982418",
   "metadata": {},
   "source": [
    "According to imdb, the budget for [The Cat in the Hat (2003)](https://www.imdb.com/title/tt0312528/) was 109,000,000 USD, and the worldwide revenue was 133,960,541 USD.  \n",
    "[Arthur Christmas (2011)](https://www.imdb.com/title/tt1430607/) had a budget of 100,000,000 USD, and a worldwide revenue of $151,411,134 USD.  \n",
    "\n",
    "Neither the revenue nor the budget for these films are represented in the data."
   ]
  },
  {
   "cell_type": "markdown",
   "id": "2d3f4f7f-54fb-4f53-8926-e9d239a9c217",
   "metadata": {},
   "source": [
    "For the above reasons, the rows where the budget, revenue, or runtime are 0 will be disregarded."
   ]
  },
  {
   "cell_type": "markdown",
   "id": "1b8ba329-8811-4c34-96f7-a45960ff5adf",
   "metadata": {},
   "source": [
    ">**Insight 1:** Over 25% of the data has either $0 for budget or revenue, or 0 minutes for runtime. In the context of movies, this data is unreliable."
   ]
  },
  {
   "cell_type": "code",
   "execution_count": 139,
   "id": "7498172a-32d2-4fb1-b237-29ec1c888d83",
   "metadata": {
    "tags": []
   },
   "outputs": [],
   "source": [
    "# create a new dataframe where all rows with zeros are removed\n",
    "df_nn = df_n.loc[(df_n['budget'] != 0) & (df_n['revenue'] != 0) & (df_n['runtime'] != 0)].copy()"
   ]
  },
  {
   "cell_type": "markdown",
   "id": "4bcf3179-afca-4e14-ae00-d0300b13781d",
   "metadata": {},
   "source": [
    "### Movies Per Year <a class=\"anchor\" id=\"2.3\"></a>"
   ]
  },
  {
   "cell_type": "markdown",
   "id": "172595f4-a4ec-443e-8569-027e6a028e36",
   "metadata": {},
   "source": [
    "Let's check the unique values in status again."
   ]
  },
  {
   "cell_type": "code",
   "execution_count": 143,
   "id": "fc54931f-fff1-4a65-b13d-a2e0c8f4367d",
   "metadata": {
    "tags": []
   },
   "outputs": [
    {
     "data": {
      "text/plain": [
       "['Released', 'Post Production']\n",
       "Categories (3, object): ['Post Production', 'Released', 'Rumored']"
      ]
     },
     "execution_count": 143,
     "metadata": {},
     "output_type": "execute_result"
    }
   ],
   "source": [
    "df_nn.status.unique()"
   ]
  },
  {
   "cell_type": "markdown",
   "id": "fcc29f7c-34c8-4455-b955-f5224f4263b2",
   "metadata": {},
   "source": [
    "We are only interested in movies that have already been released."
   ]
  },
  {
   "cell_type": "code",
   "execution_count": 146,
   "id": "9d8563c1-84c1-4dec-9da7-be85d6e7d106",
   "metadata": {
    "tags": []
   },
   "outputs": [],
   "source": [
    "# apply a mask to find only released films\n",
    "released = df_nn[df_nn['status']== 'Released']"
   ]
  },
  {
   "cell_type": "markdown",
   "id": "15d758a8-fd1d-4e84-897a-3893cb043333",
   "metadata": {},
   "source": [
    "Let's plot thenumber of movies released per year."
   ]
  },
  {
   "cell_type": "code",
   "execution_count": 149,
   "id": "e0ffa99b-e926-44c4-9816-abc8a48d0535",
   "metadata": {
    "tags": []
   },
   "outputs": [],
   "source": [
    "# count number of movies released per year\n",
    "# https://www.tutorialspoint.com/how-to-group-pandas-dataframe-by-date-and-time\n",
    "movies_per_year = released.groupby(pd.Grouper(key='release_date', freq='Y'))[['title']].count() "
   ]
  },
  {
   "cell_type": "code",
   "execution_count": 174,
   "id": "b56e1d41-f08b-4b71-8c8a-dd4b72f26bd7",
   "metadata": {
    "tags": []
   },
   "outputs": [
    {
     "name": "stderr",
     "output_type": "stream",
     "text": [
      "C:\\Users\\sumye\\anaconda3\\Lib\\site-packages\\seaborn\\_oldcore.py:1119: FutureWarning: use_inf_as_na option is deprecated and will be removed in a future version. Convert inf values to NaN before operating instead.\n",
      "  with pd.option_context('mode.use_inf_as_na', True):\n",
      "C:\\Users\\sumye\\anaconda3\\Lib\\site-packages\\seaborn\\_oldcore.py:1119: FutureWarning: use_inf_as_na option is deprecated and will be removed in a future version. Convert inf values to NaN before operating instead.\n",
      "  with pd.option_context('mode.use_inf_as_na', True):\n"
     ]
    },
    {
     "data": {
      "image/png": "[encoded data removed]",
      "text/plain": [
       "<Figure size 640x480 with 1 Axes>"
      ]
     },
     "metadata": {},
     "output_type": "display_data"
    }
   ],
   "source": [
    "sns.lineplot(data=movies_per_year,\n",
    "            x='release_date',\n",
    "            y='title',\n",
    "            color = '#701f57')\n",
    "\n",
    "plt.xlabel('Year')\n",
    "plt.ylabel('Count of Movies')\n",
    "plt.title('Count of Movies per Year\\n')\n",
    "\n",
    "plt.show()"
   ]
  },
  {
   "cell_type": "markdown",
   "id": "a1d3925d-01f4-492b-bca0-8a5d7302025a",
   "metadata": {},
   "source": [
    "There are very few films from 1920 to 1960. The count of movies released per year then increased between 1960 and 1990, then increased sharply from 1990 onwards. The highest number of movies released in a year recorded in this dataset was in 2011. The sharp drop in movies released in 2016 may be because the data only goes up until September 2016."
   ]
  },
  {
   "cell_type": "markdown",
   "id": "62d83239-0c0b-491f-aa19-23f321e4241b",
   "metadata": {},
   "source": [
    ">**Insight 2:** 2011 was the year with the largest number of movie releases."
   ]
  },
  {
   "cell_type": "markdown",
   "id": "6847a4ff-164a-4383-b314-d14ad794c60e",
   "metadata": {},
   "source": [
    "Let's zoom in to 2011."
   ]
  },
  {
   "cell_type": "markdown",
   "id": "4bb630cc-49b5-4e03-9c33-8d3edd4afdff",
   "metadata": {},
   "source": [
    "### 2011 <a class=\"anchor\" id=\"2.4\"></a>"
   ]
  },
  {
   "cell_type": "code",
   "execution_count": 163,
   "id": "8f97ca1c-91e4-4aac-bfcd-1fd3db064dcb",
   "metadata": {
    "tags": []
   },
   "outputs": [],
   "source": [
    "# apply a mask to find movies released in 2011\n",
    "#https://stackoverflow.com/questions/46878156/pandas-filter-dataframe-rows-with-a-specific-year\n",
    "movies_2011 = released[released['release_date'].dt.year == 2011]"
   ]
  },
  {
   "cell_type": "markdown",
   "id": "c57f3025-e39c-4cb0-b856-3ad314c0809e",
   "metadata": {},
   "source": [
    "It would be interesting to look at the most popular genres of 2011 and how that compares to the revenue.  \n",
    "First, we could produce a count for the genres."
   ]
  },
  {
   "cell_type": "code",
   "execution_count": 166,
   "id": "5f9663b6-9574-4608-8c2c-30a1dd228ffd",
   "metadata": {
    "tags": []
   },
   "outputs": [],
   "source": [
    "# produce a list that includes all the genres in each row of the extracted_genres column\n",
    "all_genres = [genre for genres_list in movies_2011['extracted_genres'] for genre in genres_list]\n",
    "\n",
    "# count the number of occurences of each genre \n",
    "genre_count_2011 = pd.Series(all_genres).value_counts()"
   ]
  },
  {
   "cell_type": "markdown",
   "id": "30bf87cb-d774-479a-89a0-669c749631bc",
   "metadata": {},
   "source": [
    "Sum the revenue for each genre."
   ]
  },
  {
   "cell_type": "code",
   "execution_count": 169,
   "id": "e085df08-d625-4ee3-8abe-3c7d7c9f01a5",
   "metadata": {
    "tags": []
   },
   "outputs": [],
   "source": [
    "#split the extracted_genres list and group by genres, then sum the revenue for each genre\n",
    "#https://pandas.pydata.org/docs/reference/api/pandas.DataFrame.explode.html\n",
    "rev_by_gen_2011 = movies_2011.explode('extracted_genres').groupby('extracted_genres')['revenue'].sum()\n",
    "\n",
    "# sort \n",
    "genre_count_2011 = genre_count_2011.sort_index()"
   ]
  },
  {
   "cell_type": "markdown",
   "id": "8d04e9ac-1736-4f3a-a954-d24b929aca03",
   "metadata": {},
   "source": [
    "Produce a combined chart showing count and revenue for each genre."
   ]
  },
  {
   "cell_type": "code",
   "execution_count": 236,
   "id": "60ab02bc-2ed2-4756-b491-5c6b6d41fbda",
   "metadata": {
    "tags": []
   },
   "outputs": [
    {
     "name": "stderr",
     "output_type": "stream",
     "text": [
      "C:\\Users\\sumye\\anaconda3\\Lib\\site-packages\\seaborn\\_oldcore.py:1119: FutureWarning:\n",
      "\n",
      "use_inf_as_na option is deprecated and will be removed in a future version. Convert inf values to NaN before operating instead.\n",
      "\n",
      "C:\\Users\\sumye\\anaconda3\\Lib\\site-packages\\seaborn\\_oldcore.py:1119: FutureWarning:\n",
      "\n",
      "use_inf_as_na option is deprecated and will be removed in a future version. Convert inf values to NaN before operating instead.\n",
      "\n"
     ]
    },
    {
     "data": {
      "image/png": "[encoded data removed]",
      "text/plain": [
       "<Figure size 1000x600 with 2 Axes>"
      ]
     },
     "metadata": {},
     "output_type": "display_data"
    }
   ],
   "source": [
    "fig, ax1 = plt.subplots(figsize=(10, 6))\n",
    "\n",
    "# put count on primary axis\n",
    "# make barplot\n",
    "sns.barplot(x=genre_count_2011.index, \n",
    "            y=genre_count_2011.values, \n",
    "            ax=ax1,\n",
    "           palette = 'rocket_r')\n",
    "\n",
    "ax1.set_ylabel('Count')\n",
    "ax1.set_xlabel('Genre')\n",
    "ax1.set_title('Count and Revenue by Genre 2011')\n",
    "\n",
    "plt.xticks(rotation=45,\n",
    "           horizontalalignment='right',\n",
    "           fontweight ='light',\n",
    "           fontsize ='large'\n",
    "           )\n",
    "\n",
    "# Create a secondary y-axis for revenue\n",
    "ax2 = ax1.twinx()\n",
    "# make a lineplot\n",
    "sns.lineplot(x=rev_by_gen_2011.index, \n",
    "             y=rev_by_gen_2011.values,\n",
    "             marker='o', ax=ax2, \n",
    "             color='red')\n",
    "ax2.set_ylabel('Revenue ($)')\n",
    "\n",
    "\n",
    "plt.show()"
   ]
  },
  {
   "cell_type": "markdown",
   "id": "a839340f-d6b4-408b-8ceb-71d9b5974028",
   "metadata": {},
   "source": [
    "We can see that though drama was the most popular movie genre of 2011, it was not in the top 3 genres that generated the most revenue. \n",
    "Action, adventure, and comedy were the top 3 for revenue."
   ]
  },
  {
   "cell_type": "markdown",
   "id": "9f0a3887-d718-4130-bb7e-b28e84091608",
   "metadata": {},
   "source": [
    ">**Insight 3:** Drama was the most popular genre of 2011, but did not generate the most revenue. Action produced the most revenue."
   ]
  },
  {
   "cell_type": "markdown",
   "id": "a84cb13b-13a2-4696-a489-792a0e25e67c",
   "metadata": {},
   "source": [
    "Let's look a bit closer at revenue."
   ]
  },
  {
   "cell_type": "code",
   "execution_count": 178,
   "id": "612f5b8d-123e-410f-81e3-45515112e6cf",
   "metadata": {
    "tags": []
   },
   "outputs": [],
   "source": [
    "# split the extracted_genres list so that each list item is on a new row\n",
    "movies_rev_explode_2011 = movies_2011.explode('extracted_genres')"
   ]
  },
  {
   "cell_type": "code",
   "execution_count": 234,
   "id": "62a250e0-da8d-482c-8e6a-95046182721e",
   "metadata": {
    "tags": []
   },
   "outputs": [
    {
     "data": {
      "image/png": "[encoded data removed]",
      "text/plain": [
       "<Figure size 800x400 with 1 Axes>"
      ]
     },
     "metadata": {},
     "output_type": "display_data"
    }
   ],
   "source": [
    "plt.figure(figsize=(8, 4))\n",
    "\n",
    "# make a boxplot for revenue for each genre\n",
    "sns.boxplot(data=movies_rev_explode_2011, \n",
    "            x='extracted_genres', \n",
    "            y='revenue', \n",
    "            order = ['Action', 'Adventure', 'Animation', 'Comedy', 'Crime', 'Documentary', 'Drama', 'Family', 'Fantasy', 'History', 'Horror', 'Music', 'Mystery', 'Romance', 'Science Fiction', 'Thriller', 'War', 'Western' ],\n",
    "           palette = 'rocket_r')\n",
    "\n",
    "plt.xlabel('Genre')\n",
    "plt.ylabel('Revenue ($)')\n",
    "plt.title('Revenue by Genre 2011\\n')\n",
    "\n",
    "plt.xticks(rotation=45,\n",
    "           horizontalalignment='right',\n",
    "           fontweight ='light',\n",
    "           fontsize ='large'\n",
    "           )\n",
    "\n",
    "plt.show()"
   ]
  },
  {
   "cell_type": "markdown",
   "id": "e268fd93-8684-4573-a1d0-59a3be397cd5",
   "metadata": {},
   "source": [
    "It seems that the median for action films is lower than expected for the top performing genre of 2011, indicating that most action films did not produce much revenue, but there were several outliers that greatly outperformed to raise the total revenue value for action films."
   ]
  },
  {
   "cell_type": "markdown",
   "id": "941ec00a-2585-4bc7-ac33-02d471673764",
   "metadata": {},
   "source": [
    ">**Insight 4:** The median revenue for action films in 2011 was relatively small. Several action films outperformed, leading to a large total revenue."
   ]
  },
  {
   "cell_type": "markdown",
   "id": "68b99dd6-e7fd-4d5d-8300-338bb8838e82",
   "metadata": {},
   "source": [
    "### Select Two Movies <a class=\"anchor\" id=\"2.5\"></a>"
   ]
  },
  {
   "cell_type": "markdown",
   "id": "c1922a79-c838-42af-ac5b-8621246c5e14",
   "metadata": {},
   "source": [
    "Next, let's look at the top grossing movie of 2011 and the top grossing movie overall. "
   ]
  },
  {
   "cell_type": "code",
   "execution_count": 186,
   "id": "88278fc0-a5e8-49e3-94e4-3b0b10f2b61b",
   "metadata": {
    "tags": []
   },
   "outputs": [
    {
     "data": {
      "text/html": [
       "<div>\n",
       "<style scoped>\n",
       "    .dataframe tbody tr th:only-of-type {\n",
       "        vertical-align: middle;\n",
       "    }\n",
       "\n",
       "    .dataframe tbody tr th {\n",
       "        vertical-align: top;\n",
       "    }\n",
       "\n",
       "    .dataframe thead th {\n",
       "        text-align: right;\n",
       "    }\n",
       "</style>\n",
       "<table border=\"1\" class=\"dataframe\">\n",
       "  <thead>\n",
       "    <tr style=\"text-align: right;\">\n",
       "      <th></th>\n",
       "      <th>budget</th>\n",
       "      <th>id</th>\n",
       "      <th>original_language</th>\n",
       "      <th>original_title</th>\n",
       "      <th>popularity</th>\n",
       "      <th>release_date</th>\n",
       "      <th>revenue</th>\n",
       "      <th>runtime</th>\n",
       "      <th>status</th>\n",
       "      <th>title</th>\n",
       "      <th>vote_average</th>\n",
       "      <th>vote_count</th>\n",
       "      <th>extracted_genres</th>\n",
       "      <th>extract_production_comp</th>\n",
       "      <th>extract_production_countries</th>\n",
       "      <th>extract_spoken_languages</th>\n",
       "      <th>extract_keywords</th>\n",
       "    </tr>\n",
       "  </thead>\n",
       "  <tbody>\n",
       "    <tr>\n",
       "      <th>52</th>\n",
       "      <td>195000000</td>\n",
       "      <td>38356</td>\n",
       "      <td>en</td>\n",
       "      <td>Transformers: Dark of the Moon</td>\n",
       "      <td>28.529607</td>\n",
       "      <td>2011-06-28</td>\n",
       "      <td>1123746996</td>\n",
       "      <td>154.0</td>\n",
       "      <td>Released</td>\n",
       "      <td>Transformers: Dark of the Moon</td>\n",
       "      <td>6.1</td>\n",
       "      <td>3299</td>\n",
       "      <td>[Action, Science Fiction, Adventure]</td>\n",
       "      <td>[Paramount Pictures, Di Bonaventura Pictures, ...</td>\n",
       "      <td>[United States of America]</td>\n",
       "      <td>[English]</td>\n",
       "      <td>[moon, spacecraft, traitor, bodyguard, alien p...</td>\n",
       "    </tr>\n",
       "  </tbody>\n",
       "</table>\n",
       "</div>"
      ],
      "text/plain": [
       "       budget     id original_language                  original_title  \\\n",
       "52  195000000  38356                en  Transformers: Dark of the Moon   \n",
       "\n",
       "    popularity release_date     revenue  runtime    status  \\\n",
       "52   28.529607   2011-06-28  1123746996    154.0  Released   \n",
       "\n",
       "                             title  vote_average  vote_count  \\\n",
       "52  Transformers: Dark of the Moon           6.1        3299   \n",
       "\n",
       "                        extracted_genres  \\\n",
       "52  [Action, Science Fiction, Adventure]   \n",
       "\n",
       "                              extract_production_comp  \\\n",
       "52  [Paramount Pictures, Di Bonaventura Pictures, ...   \n",
       "\n",
       "   extract_production_countries extract_spoken_languages  \\\n",
       "52   [United States of America]                [English]   \n",
       "\n",
       "                                     extract_keywords  \n",
       "52  [moon, spacecraft, traitor, bodyguard, alien p...  "
      ]
     },
     "execution_count": 186,
     "metadata": {},
     "output_type": "execute_result"
    }
   ],
   "source": [
    "# find top grossing movie of 2011\n",
    "movies_2011.sort_values(['revenue'],ascending=False).head(1)"
   ]
  },
  {
   "cell_type": "code",
   "execution_count": 188,
   "id": "958a2f83-de12-42a5-9846-0e44dce0c4b6",
   "metadata": {
    "tags": []
   },
   "outputs": [
    {
     "data": {
      "text/html": [
       "<div>\n",
       "<style scoped>\n",
       "    .dataframe tbody tr th:only-of-type {\n",
       "        vertical-align: middle;\n",
       "    }\n",
       "\n",
       "    .dataframe tbody tr th {\n",
       "        vertical-align: top;\n",
       "    }\n",
       "\n",
       "    .dataframe thead th {\n",
       "        text-align: right;\n",
       "    }\n",
       "</style>\n",
       "<table border=\"1\" class=\"dataframe\">\n",
       "  <thead>\n",
       "    <tr style=\"text-align: right;\">\n",
       "      <th></th>\n",
       "      <th>budget</th>\n",
       "      <th>id</th>\n",
       "      <th>original_language</th>\n",
       "      <th>original_title</th>\n",
       "      <th>popularity</th>\n",
       "      <th>release_date</th>\n",
       "      <th>revenue</th>\n",
       "      <th>runtime</th>\n",
       "      <th>status</th>\n",
       "      <th>title</th>\n",
       "      <th>vote_average</th>\n",
       "      <th>vote_count</th>\n",
       "      <th>extracted_genres</th>\n",
       "      <th>extract_production_comp</th>\n",
       "      <th>extract_production_countries</th>\n",
       "      <th>extract_spoken_languages</th>\n",
       "      <th>extract_keywords</th>\n",
       "    </tr>\n",
       "  </thead>\n",
       "  <tbody>\n",
       "    <tr>\n",
       "      <th>0</th>\n",
       "      <td>237000000</td>\n",
       "      <td>19995</td>\n",
       "      <td>en</td>\n",
       "      <td>Avatar</td>\n",
       "      <td>150.437577</td>\n",
       "      <td>2009-12-10</td>\n",
       "      <td>2787965087</td>\n",
       "      <td>162.0</td>\n",
       "      <td>Released</td>\n",
       "      <td>Avatar</td>\n",
       "      <td>7.2</td>\n",
       "      <td>11800</td>\n",
       "      <td>[Action, Adventure, Fantasy, Science Fiction]</td>\n",
       "      <td>[Ingenious Film Partners, Twentieth Century Fo...</td>\n",
       "      <td>[United States of America, United Kingdom]</td>\n",
       "      <td>[English, Español]</td>\n",
       "      <td>[culture clash, future, space war, space colon...</td>\n",
       "    </tr>\n",
       "  </tbody>\n",
       "</table>\n",
       "</div>"
      ],
      "text/plain": [
       "      budget     id original_language original_title  popularity release_date  \\\n",
       "0  237000000  19995                en         Avatar  150.437577   2009-12-10   \n",
       "\n",
       "      revenue  runtime    status   title  vote_average  vote_count  \\\n",
       "0  2787965087    162.0  Released  Avatar           7.2       11800   \n",
       "\n",
       "                                extracted_genres  \\\n",
       "0  [Action, Adventure, Fantasy, Science Fiction]   \n",
       "\n",
       "                             extract_production_comp  \\\n",
       "0  [Ingenious Film Partners, Twentieth Century Fo...   \n",
       "\n",
       "                 extract_production_countries extract_spoken_languages  \\\n",
       "0  [United States of America, United Kingdom]       [English, Español]   \n",
       "\n",
       "                                    extract_keywords  \n",
       "0  [culture clash, future, space war, space colon...  "
      ]
     },
     "execution_count": 188,
     "metadata": {},
     "output_type": "execute_result"
    }
   ],
   "source": [
    "# find top grossing movie overall\n",
    "df_nn.sort_values(['revenue'],ascending=False).head(1)"
   ]
  },
  {
   "cell_type": "markdown",
   "id": "b99e217c-3678-423f-8e09-8901465e24a6",
   "metadata": {},
   "source": [
    ">**Insight 5:** The top grossing movie of 2011 was Transformers: Dark of the Moon. The top grossing film overall was Avatar."
   ]
  },
  {
   "cell_type": "markdown",
   "id": "8eaba593-7b4d-4f3a-8f89-f2c6212fccbc",
   "metadata": {},
   "source": [
    "Let's make a dataframe with just these two movies."
   ]
  },
  {
   "cell_type": "code",
   "execution_count": 192,
   "id": "6a226644-4c36-46a3-a60e-fbd37e9854f6",
   "metadata": {
    "tags": []
   },
   "outputs": [],
   "source": [
    "# make dataframe with just avatar and transformers: dark of the moon\n",
    "selected_movies = df_nn[(df_nn['id']== 38356) | (df_nn['id']== 19995)].copy()"
   ]
  },
  {
   "cell_type": "markdown",
   "id": "a9a97dfd-a6a6-41f1-bc31-f41694e4c21a",
   "metadata": {},
   "source": [
    "Let's add a profit column, where profit is revenue minus budget."
   ]
  },
  {
   "cell_type": "code",
   "execution_count": 195,
   "id": "87ea1f2c-9e84-4ecb-8749-c0dbcf36c025",
   "metadata": {
    "tags": []
   },
   "outputs": [],
   "source": [
    "selected_movies['profit'] = selected_movies['revenue'] - selected_movies['budget']"
   ]
  },
  {
   "cell_type": "code",
   "execution_count": 197,
   "id": "5826f21c-f7a8-4ead-8996-b8a3f5bc3c6c",
   "metadata": {
    "tags": []
   },
   "outputs": [
    {
     "data": {
      "text/html": [
       "<div>\n",
       "<style scoped>\n",
       "    .dataframe tbody tr th:only-of-type {\n",
       "        vertical-align: middle;\n",
       "    }\n",
       "\n",
       "    .dataframe tbody tr th {\n",
       "        vertical-align: top;\n",
       "    }\n",
       "\n",
       "    .dataframe thead th {\n",
       "        text-align: right;\n",
       "    }\n",
       "</style>\n",
       "<table border=\"1\" class=\"dataframe\">\n",
       "  <thead>\n",
       "    <tr style=\"text-align: right;\">\n",
       "      <th></th>\n",
       "      <th>budget</th>\n",
       "      <th>id</th>\n",
       "      <th>original_language</th>\n",
       "      <th>original_title</th>\n",
       "      <th>popularity</th>\n",
       "      <th>release_date</th>\n",
       "      <th>revenue</th>\n",
       "      <th>runtime</th>\n",
       "      <th>status</th>\n",
       "      <th>title</th>\n",
       "      <th>vote_average</th>\n",
       "      <th>vote_count</th>\n",
       "      <th>extracted_genres</th>\n",
       "      <th>extract_production_comp</th>\n",
       "      <th>extract_production_countries</th>\n",
       "      <th>extract_spoken_languages</th>\n",
       "      <th>extract_keywords</th>\n",
       "      <th>profit</th>\n",
       "    </tr>\n",
       "  </thead>\n",
       "  <tbody>\n",
       "    <tr>\n",
       "      <th>0</th>\n",
       "      <td>237000000</td>\n",
       "      <td>19995</td>\n",
       "      <td>en</td>\n",
       "      <td>Avatar</td>\n",
       "      <td>150.437577</td>\n",
       "      <td>2009-12-10</td>\n",
       "      <td>2787965087</td>\n",
       "      <td>162.0</td>\n",
       "      <td>Released</td>\n",
       "      <td>Avatar</td>\n",
       "      <td>7.2</td>\n",
       "      <td>11800</td>\n",
       "      <td>[Action, Adventure, Fantasy, Science Fiction]</td>\n",
       "      <td>[Ingenious Film Partners, Twentieth Century Fo...</td>\n",
       "      <td>[United States of America, United Kingdom]</td>\n",
       "      <td>[English, Español]</td>\n",
       "      <td>[culture clash, future, space war, space colon...</td>\n",
       "      <td>2550965087</td>\n",
       "    </tr>\n",
       "    <tr>\n",
       "      <th>52</th>\n",
       "      <td>195000000</td>\n",
       "      <td>38356</td>\n",
       "      <td>en</td>\n",
       "      <td>Transformers: Dark of the Moon</td>\n",
       "      <td>28.529607</td>\n",
       "      <td>2011-06-28</td>\n",
       "      <td>1123746996</td>\n",
       "      <td>154.0</td>\n",
       "      <td>Released</td>\n",
       "      <td>Transformers: Dark of the Moon</td>\n",
       "      <td>6.1</td>\n",
       "      <td>3299</td>\n",
       "      <td>[Action, Science Fiction, Adventure]</td>\n",
       "      <td>[Paramount Pictures, Di Bonaventura Pictures, ...</td>\n",
       "      <td>[United States of America]</td>\n",
       "      <td>[English]</td>\n",
       "      <td>[moon, spacecraft, traitor, bodyguard, alien p...</td>\n",
       "      <td>928746996</td>\n",
       "    </tr>\n",
       "  </tbody>\n",
       "</table>\n",
       "</div>"
      ],
      "text/plain": [
       "       budget     id original_language                  original_title  \\\n",
       "0   237000000  19995                en                          Avatar   \n",
       "52  195000000  38356                en  Transformers: Dark of the Moon   \n",
       "\n",
       "    popularity release_date     revenue  runtime    status  \\\n",
       "0   150.437577   2009-12-10  2787965087    162.0  Released   \n",
       "52   28.529607   2011-06-28  1123746996    154.0  Released   \n",
       "\n",
       "                             title  vote_average  vote_count  \\\n",
       "0                           Avatar           7.2       11800   \n",
       "52  Transformers: Dark of the Moon           6.1        3299   \n",
       "\n",
       "                                 extracted_genres  \\\n",
       "0   [Action, Adventure, Fantasy, Science Fiction]   \n",
       "52           [Action, Science Fiction, Adventure]   \n",
       "\n",
       "                              extract_production_comp  \\\n",
       "0   [Ingenious Film Partners, Twentieth Century Fo...   \n",
       "52  [Paramount Pictures, Di Bonaventura Pictures, ...   \n",
       "\n",
       "                  extract_production_countries extract_spoken_languages  \\\n",
       "0   [United States of America, United Kingdom]       [English, Español]   \n",
       "52                  [United States of America]                [English]   \n",
       "\n",
       "                                     extract_keywords      profit  \n",
       "0   [culture clash, future, space war, space colon...  2550965087  \n",
       "52  [moon, spacecraft, traitor, bodyguard, alien p...   928746996  "
      ]
     },
     "execution_count": 197,
     "metadata": {},
     "output_type": "execute_result"
    }
   ],
   "source": [
    "selected_movies"
   ]
  },
  {
   "cell_type": "markdown",
   "id": "f147727d-20d6-4dcf-9a4d-898a71bbf108",
   "metadata": {},
   "source": [
    "#### Budget, Revenue, and Profit <a class=\"anchor\" id=\"2.5.1\"></a>"
   ]
  },
  {
   "cell_type": "markdown",
   "id": "2caa2c25-138f-4f2d-b8a7-7e181670a08f",
   "metadata": {},
   "source": [
    "Let's compare the budget, revenue, and profit of both films in a radar chart."
   ]
  },
  {
   "cell_type": "code",
   "execution_count": 230,
   "id": "ca19718e-7622-4e91-8453-9654b255b10e",
   "metadata": {
    "tags": []
   },
   "outputs": [
    {
     "data": {
      "application/vnd.plotly.v1+json": {
       "config": {
        "plotlyServerURL": "https://plot.ly"
       },
       "data": [
        {
         "fill": "toself",
         "fillcolor": "rgba(53,25,62,0.5)",
         "name": "Avatar",
         "r": [
          237000000,
          2787965087,
          2550965087
         ],
         "theta": [
          "Budget",
          "Revenue",
          "Profit"
         ],
         "type": "scatterpolar"
        },
        {
         "fill": "toself",
         "fillcolor": "rgba(243,118,81,0.5)",
         "name": "Transformers: Dark of the Moon",
         "r": [
          195000000,
          1123746996,
          928746996
         ],
         "theta": [
          "Budget",
          "Revenue",
          "Profit"
         ],
         "type": "scatterpolar"
        }
       ],
       "layout": {
        "autosize": true,
        "polar": {
         "angularaxis": {
          "type": "category"
         },
         "radialaxis": {
          "autorange": false,
          "range": [
           0,
           3000000000
          ],
          "type": "linear",
          "visible": true
         }
        },
        "showlegend": true,
        "template": {
         "data": {
          "bar": [
           {
            "error_x": {
             "color": "#2a3f5f"
            },
            "error_y": {
             "color": "#2a3f5f"
            },
            "marker": {
             "line": {
              "color": "#E5ECF6",
              "width": 0.5
             },
             "pattern": {
              "fillmode": "overlay",
              "size": 10,
              "solidity": 0.2
             }
            },
            "type": "bar"
           }
          ],
          "barpolar": [
           {
            "marker": {
             "line": {
              "color": "#E5ECF6",
              "width": 0.5
             },
             "pattern": {
              "fillmode": "overlay",
              "size": 10,
              "solidity": 0.2
             }
            },
            "type": "barpolar"
           }
          ],
          "carpet": [
           {
            "aaxis": {
             "endlinecolor": "#2a3f5f",
             "gridcolor": "white",
             "linecolor": "white",
             "minorgridcolor": "white",
             "startlinecolor": "#2a3f5f"
            },
            "baxis": {
             "endlinecolor": "#2a3f5f",
             "gridcolor": "white",
             "linecolor": "white",
             "minorgridcolor": "white",
             "startlinecolor": "#2a3f5f"
            },
            "type": "carpet"
           }
          ],
          "choropleth": [
           {
            "colorbar": {
             "outlinewidth": 0,
             "ticks": ""
            },
            "type": "choropleth"
           }
          ],
          "contour": [
           {
            "colorbar": {
             "outlinewidth": 0,
             "ticks": ""
            },
            "colorscale": [
             [
              0,
              "#0d0887"
             ],
             [
              0.1111111111111111,
              "#46039f"
             ],
             [
              0.2222222222222222,
              "#7201a8"
             ],
             [
              0.3333333333333333,
              "#9c179e"
             ],
             [
              0.4444444444444444,
              "#bd3786"
             ],
             [
              0.5555555555555556,
              "#d8576b"
             ],
             [
              0.6666666666666666,
              "#ed7953"
             ],
             [
              0.7777777777777778,
              "#fb9f3a"
             ],
             [
              0.8888888888888888,
              "#fdca26"
             ],
             [
              1,
              "#f0f921"
             ]
            ],
            "type": "contour"
           }
          ],
          "contourcarpet": [
           {
            "colorbar": {
             "outlinewidth": 0,
             "ticks": ""
            },
            "type": "contourcarpet"
           }
          ],
          "heatmap": [
           {
            "colorbar": {
             "outlinewidth": 0,
             "ticks": ""
            },
            "colorscale": [
             [
              0,
              "#0d0887"
             ],
             [
              0.1111111111111111,
              "#46039f"
             ],
             [
              0.2222222222222222,
              "#7201a8"
             ],
             [
              0.3333333333333333,
              "#9c179e"
             ],
             [
              0.4444444444444444,
              "#bd3786"
             ],
             [
              0.5555555555555556,
              "#d8576b"
             ],
             [
              0.6666666666666666,
              "#ed7953"
             ],
             [
              0.7777777777777778,
              "#fb9f3a"
             ],
             [
              0.8888888888888888,
              "#fdca26"
             ],
             [
              1,
              "#f0f921"
             ]
            ],
            "type": "heatmap"
           }
          ],
          "heatmapgl": [
           {
            "colorbar": {
             "outlinewidth": 0,
             "ticks": ""
            },
            "colorscale": [
             [
              0,
              "#0d0887"
             ],
             [
              0.1111111111111111,
              "#46039f"
             ],
             [
              0.2222222222222222,
              "#7201a8"
             ],
             [
              0.3333333333333333,
              "#9c179e"
             ],
             [
              0.4444444444444444,
              "#bd3786"
             ],
             [
              0.5555555555555556,
              "#d8576b"
             ],
             [
              0.6666666666666666,
              "#ed7953"
             ],
             [
              0.7777777777777778,
              "#fb9f3a"
             ],
             [
              0.8888888888888888,
              "#fdca26"
             ],
             [
              1,
              "#f0f921"
             ]
            ],
            "type": "heatmapgl"
           }
          ],
          "histogram": [
           {
            "marker": {
             "pattern": {
              "fillmode": "overlay",
              "size": 10,
              "solidity": 0.2
             }
            },
            "type": "histogram"
           }
          ],
          "histogram2d": [
           {
            "colorbar": {
             "outlinewidth": 0,
             "ticks": ""
            },
            "colorscale": [
             [
              0,
              "#0d0887"
             ],
             [
              0.1111111111111111,
              "#46039f"
             ],
             [
              0.2222222222222222,
              "#7201a8"
             ],
             [
              0.3333333333333333,
              "#9c179e"
             ],
             [
              0.4444444444444444,
              "#bd3786"
             ],
             [
              0.5555555555555556,
              "#d8576b"
             ],
             [
              0.6666666666666666,
              "#ed7953"
             ],
             [
              0.7777777777777778,
              "#fb9f3a"
             ],
             [
              0.8888888888888888,
              "#fdca26"
             ],
             [
              1,
              "#f0f921"
             ]
            ],
            "type": "histogram2d"
           }
          ],
          "histogram2dcontour": [
           {
            "colorbar": {
             "outlinewidth": 0,
             "ticks": ""
            },
            "colorscale": [
             [
              0,
              "#0d0887"
             ],
             [
              0.1111111111111111,
              "#46039f"
             ],
             [
              0.2222222222222222,
              "#7201a8"
             ],
             [
              0.3333333333333333,
              "#9c179e"
             ],
             [
              0.4444444444444444,
              "#bd3786"
             ],
             [
              0.5555555555555556,
              "#d8576b"
             ],
             [
              0.6666666666666666,
              "#ed7953"
             ],
             [
              0.7777777777777778,
              "#fb9f3a"
             ],
             [
              0.8888888888888888,
              "#fdca26"
             ],
             [
              1,
              "#f0f921"
             ]
            ],
            "type": "histogram2dcontour"
           }
          ],
          "mesh3d": [
           {
            "colorbar": {
             "outlinewidth": 0,
             "ticks": ""
            },
            "type": "mesh3d"
           }
          ],
          "parcoords": [
           {
            "line": {
             "colorbar": {
              "outlinewidth": 0,
              "ticks": ""
             }
            },
            "type": "parcoords"
           }
          ],
          "pie": [
           {
            "automargin": true,
            "type": "pie"
           }
          ],
          "scatter": [
           {
            "fillpattern": {
             "fillmode": "overlay",
             "size": 10,
             "solidity": 0.2
            },
            "type": "scatter"
           }
          ],
          "scatter3d": [
           {
            "line": {
             "colorbar": {
              "outlinewidth": 0,
              "ticks": ""
             }
            },
            "marker": {
             "colorbar": {
              "outlinewidth": 0,
              "ticks": ""
             }
            },
            "type": "scatter3d"
           }
          ],
          "scattercarpet": [
           {
            "marker": {
             "colorbar": {
              "outlinewidth": 0,
              "ticks": ""
             }
            },
            "type": "scattercarpet"
           }
          ],
          "scattergeo": [
           {
            "marker": {
             "colorbar": {
              "outlinewidth": 0,
              "ticks": ""
             }
            },
            "type": "scattergeo"
           }
          ],
          "scattergl": [
           {
            "marker": {
             "colorbar": {
              "outlinewidth": 0,
              "ticks": ""
             }
            },
            "type": "scattergl"
           }
          ],
          "scattermapbox": [
           {
            "marker": {
             "colorbar": {
              "outlinewidth": 0,
              "ticks": ""
             }
            },
            "type": "scattermapbox"
           }
          ],
          "scatterpolar": [
           {
            "marker": {
             "colorbar": {
              "outlinewidth": 0,
              "ticks": ""
             }
            },
            "type": "scatterpolar"
           }
          ],
          "scatterpolargl": [
           {
            "marker": {
             "colorbar": {
              "outlinewidth": 0,
              "ticks": ""
             }
            },
            "type": "scatterpolargl"
           }
          ],
          "scatterternary": [
           {
            "marker": {
             "colorbar": {
              "outlinewidth": 0,
              "ticks": ""
             }
            },
            "type": "scatterternary"
           }
          ],
          "surface": [
           {
            "colorbar": {
             "outlinewidth": 0,
             "ticks": ""
            },
            "colorscale": [
             [
              0,
              "#0d0887"
             ],
             [
              0.1111111111111111,
              "#46039f"
             ],
             [
              0.2222222222222222,
              "#7201a8"
             ],
             [
              0.3333333333333333,
              "#9c179e"
             ],
             [
              0.4444444444444444,
              "#bd3786"
             ],
             [
              0.5555555555555556,
              "#d8576b"
             ],
             [
              0.6666666666666666,
              "#ed7953"
             ],
             [
              0.7777777777777778,
              "#fb9f3a"
             ],
             [
              0.8888888888888888,
              "#fdca26"
             ],
             [
              1,
              "#f0f921"
             ]
            ],
            "type": "surface"
           }
          ],
          "table": [
           {
            "cells": {
             "fill": {
              "color": "#EBF0F8"
             },
             "line": {
              "color": "white"
             }
            },
            "header": {
             "fill": {
              "color": "#C8D4E3"
             },
             "line": {
              "color": "white"
             }
            },
            "type": "table"
           }
          ]
         },
         "layout": {
          "annotationdefaults": {
           "arrowcolor": "#2a3f5f",
           "arrowhead": 0,
           "arrowwidth": 1
          },
          "autotypenumbers": "strict",
          "coloraxis": {
           "colorbar": {
            "outlinewidth": 0,
            "ticks": ""
           }
          },
          "colorscale": {
           "diverging": [
            [
             0,
             "#8e0152"
            ],
            [
             0.1,
             "#c51b7d"
            ],
            [
             0.2,
             "#de77ae"
            ],
            [
             0.3,
             "#f1b6da"
            ],
            [
             0.4,
             "#fde0ef"
            ],
            [
             0.5,
             "#f7f7f7"
            ],
            [
             0.6,
             "#e6f5d0"
            ],
            [
             0.7,
             "#b8e186"
            ],
            [
             0.8,
             "#7fbc41"
            ],
            [
             0.9,
             "#4d9221"
            ],
            [
             1,
             "#276419"
            ]
           ],
           "sequential": [
            [
             0,
             "#0d0887"
            ],
            [
             0.1111111111111111,
             "#46039f"
            ],
            [
             0.2222222222222222,
             "#7201a8"
            ],
            [
             0.3333333333333333,
             "#9c179e"
            ],
            [
             0.4444444444444444,
             "#bd3786"
            ],
            [
             0.5555555555555556,
             "#d8576b"
            ],
            [
             0.6666666666666666,
             "#ed7953"
            ],
            [
             0.7777777777777778,
             "#fb9f3a"
            ],
            [
             0.8888888888888888,
             "#fdca26"
            ],
            [
             1,
             "#f0f921"
            ]
           ],
           "sequentialminus": [
            [
             0,
             "#0d0887"
            ],
            [
             0.1111111111111111,
             "#46039f"
            ],
            [
             0.2222222222222222,
             "#7201a8"
            ],
            [
             0.3333333333333333,
             "#9c179e"
            ],
            [
             0.4444444444444444,
             "#bd3786"
            ],
            [
             0.5555555555555556,
             "#d8576b"
            ],
            [
             0.6666666666666666,
             "#ed7953"
            ],
            [
             0.7777777777777778,
             "#fb9f3a"
            ],
            [
             0.8888888888888888,
             "#fdca26"
            ],
            [
             1,
             "#f0f921"
            ]
           ]
          },
          "colorway": [
           "#636efa",
           "#EF553B",
           "#00cc96",
           "#ab63fa",
           "#FFA15A",
           "#19d3f3",
           "#FF6692",
           "#B6E880",
           "#FF97FF",
           "#FECB52"
          ],
          "font": {
           "color": "#2a3f5f"
          },
          "geo": {
           "bgcolor": "white",
           "lakecolor": "white",
           "landcolor": "#E5ECF6",
           "showlakes": true,
           "showland": true,
           "subunitcolor": "white"
          },
          "hoverlabel": {
           "align": "left"
          },
          "hovermode": "closest",
          "mapbox": {
           "style": "light"
          },
          "paper_bgcolor": "white",
          "plot_bgcolor": "#E5ECF6",
          "polar": {
           "angularaxis": {
            "gridcolor": "white",
            "linecolor": "white",
            "ticks": ""
           },
           "bgcolor": "#E5ECF6",
           "radialaxis": {
            "gridcolor": "white",
            "linecolor": "white",
            "ticks": ""
           }
          },
          "scene": {
           "xaxis": {
            "backgroundcolor": "#E5ECF6",
            "gridcolor": "white",
            "gridwidth": 2,
            "linecolor": "white",
            "showbackground": true,
            "ticks": "",
            "zerolinecolor": "white"
           },
           "yaxis": {
            "backgroundcolor": "#E5ECF6",
            "gridcolor": "white",
            "gridwidth": 2,
            "linecolor": "white",
            "showbackground": true,
            "ticks": "",
            "zerolinecolor": "white"
           },
           "zaxis": {
            "backgroundcolor": "#E5ECF6",
            "gridcolor": "white",
            "gridwidth": 2,
            "linecolor": "white",
            "showbackground": true,
            "ticks": "",
            "zerolinecolor": "white"
           }
          },
          "shapedefaults": {
           "line": {
            "color": "#2a3f5f"
           }
          },
          "ternary": {
           "aaxis": {
            "gridcolor": "white",
            "linecolor": "white",
            "ticks": ""
           },
           "baxis": {
            "gridcolor": "white",
            "linecolor": "white",
            "ticks": ""
           },
           "bgcolor": "#E5ECF6",
           "caxis": {
            "gridcolor": "white",
            "linecolor": "white",
            "ticks": ""
           }
          },
          "title": {
           "x": 0.05
          },
          "xaxis": {
           "automargin": true,
           "gridcolor": "white",
           "linecolor": "white",
           "ticks": "",
           "title": {
            "standoff": 15
           },
           "zerolinecolor": "white",
           "zerolinewidth": 2
          },
          "yaxis": {
           "automargin": true,
           "gridcolor": "white",
           "linecolor": "white",
           "ticks": "",
           "title": {
            "standoff": 15
           },
           "zerolinecolor": "white",
           "zerolinewidth": 2
          }
         }
        }
       }
      },
      "image/png": "[encoded data removed]",
      "text/html": [
       "<div>                            <div id=\"b5d4d5c8-26b8-4077-9b48-4ea0752a6c69\" class=\"plotly-graph-div\" style=\"height:525px; width:100%;\"></div>            <script type=\"text/javascript\">                require([\"plotly\"], function(Plotly) {                    window.PLOTLYENV=window.PLOTLYENV || {};                                    if (document.getElementById(\"b5d4d5c8-26b8-4077-9b48-4ea0752a6c69\")) {                    Plotly.newPlot(                        \"b5d4d5c8-26b8-4077-9b48-4ea0752a6c69\",                        [{\"fill\":\"toself\",\"fillcolor\":\"rgba(53,25,62,0.5)\",\"name\":\"Avatar\",\"r\":[237000000,2787965087,2550965087],\"theta\":[\"Budget\",\"Revenue\",\"Profit\"],\"type\":\"scatterpolar\"},{\"fill\":\"toself\",\"fillcolor\":\"rgba(243,118,81,0.5)\",\"name\":\"Transformers: Dark of the Moon\",\"r\":[195000000,1123746996,928746996],\"theta\":[\"Budget\",\"Revenue\",\"Profit\"],\"type\":\"scatterpolar\"}],                        {\"template\":{\"data\":{\"histogram2dcontour\":[{\"type\":\"histogram2dcontour\",\"colorbar\":{\"outlinewidth\":0,\"ticks\":\"\"},\"colorscale\":[[0.0,\"#0d0887\"],[0.1111111111111111,\"#46039f\"],[0.2222222222222222,\"#7201a8\"],[0.3333333333333333,\"#9c179e\"],[0.4444444444444444,\"#bd3786\"],[0.5555555555555556,\"#d8576b\"],[0.6666666666666666,\"#ed7953\"],[0.7777777777777778,\"#fb9f3a\"],[0.8888888888888888,\"#fdca26\"],[1.0,\"#f0f921\"]]}],\"choropleth\":[{\"type\":\"choropleth\",\"colorbar\":{\"outlinewidth\":0,\"ticks\":\"\"}}],\"histogram2d\":[{\"type\":\"histogram2d\",\"colorbar\":{\"outlinewidth\":0,\"ticks\":\"\"},\"colorscale\":[[0.0,\"#0d0887\"],[0.1111111111111111,\"#46039f\"],[0.2222222222222222,\"#7201a8\"],[0.3333333333333333,\"#9c179e\"],[0.4444444444444444,\"#bd3786\"],[0.5555555555555556,\"#d8576b\"],[0.6666666666666666,\"#ed7953\"],[0.7777777777777778,\"#fb9f3a\"],[0.8888888888888888,\"#fdca26\"],[1.0,\"#f0f921\"]]}],\"heatmap\":[{\"type\":\"heatmap\",\"colorbar\":{\"outlinewidth\":0,\"ticks\":\"\"},\"colorscale\":[[0.0,\"#0d0887\"],[0.1111111111111111,\"#46039f\"],[0.2222222222222222,\"#7201a8\"],[0.3333333333333333,\"#9c179e\"],[0.4444444444444444,\"#bd3786\"],[0.5555555555555556,\"#d8576b\"],[0.6666666666666666,\"#ed7953\"],[0.7777777777777778,\"#fb9f3a\"],[0.8888888888888888,\"#fdca26\"],[1.0,\"#f0f921\"]]}],\"heatmapgl\":[{\"type\":\"heatmapgl\",\"colorbar\":{\"outlinewidth\":0,\"ticks\":\"\"},\"colorscale\":[[0.0,\"#0d0887\"],[0.1111111111111111,\"#46039f\"],[0.2222222222222222,\"#7201a8\"],[0.3333333333333333,\"#9c179e\"],[0.4444444444444444,\"#bd3786\"],[0.5555555555555556,\"#d8576b\"],[0.6666666666666666,\"#ed7953\"],[0.7777777777777778,\"#fb9f3a\"],[0.8888888888888888,\"#fdca26\"],[1.0,\"#f0f921\"]]}],\"contourcarpet\":[{\"type\":\"contourcarpet\",\"colorbar\":{\"outlinewidth\":0,\"ticks\":\"\"}}],\"contour\":[{\"type\":\"contour\",\"colorbar\":{\"outlinewidth\":0,\"ticks\":\"\"},\"colorscale\":[[0.0,\"#0d0887\"],[0.1111111111111111,\"#46039f\"],[0.2222222222222222,\"#7201a8\"],[0.3333333333333333,\"#9c179e\"],[0.4444444444444444,\"#bd3786\"],[0.5555555555555556,\"#d8576b\"],[0.6666666666666666,\"#ed7953\"],[0.7777777777777778,\"#fb9f3a\"],[0.8888888888888888,\"#fdca26\"],[1.0,\"#f0f921\"]]}],\"surface\":[{\"type\":\"surface\",\"colorbar\":{\"outlinewidth\":0,\"ticks\":\"\"},\"colorscale\":[[0.0,\"#0d0887\"],[0.1111111111111111,\"#46039f\"],[0.2222222222222222,\"#7201a8\"],[0.3333333333333333,\"#9c179e\"],[0.4444444444444444,\"#bd3786\"],[0.5555555555555556,\"#d8576b\"],[0.6666666666666666,\"#ed7953\"],[0.7777777777777778,\"#fb9f3a\"],[0.8888888888888888,\"#fdca26\"],[1.0,\"#f0f921\"]]}],\"mesh3d\":[{\"type\":\"mesh3d\",\"colorbar\":{\"outlinewidth\":0,\"ticks\":\"\"}}],\"scatter\":[{\"fillpattern\":{\"fillmode\":\"overlay\",\"size\":10,\"solidity\":0.2},\"type\":\"scatter\"}],\"parcoords\":[{\"type\":\"parcoords\",\"line\":{\"colorbar\":{\"outlinewidth\":0,\"ticks\":\"\"}}}],\"scatterpolargl\":[{\"type\":\"scatterpolargl\",\"marker\":{\"colorbar\":{\"outlinewidth\":0,\"ticks\":\"\"}}}],\"bar\":[{\"error_x\":{\"color\":\"#2a3f5f\"},\"error_y\":{\"color\":\"#2a3f5f\"},\"marker\":{\"line\":{\"color\":\"#E5ECF6\",\"width\":0.5},\"pattern\":{\"fillmode\":\"overlay\",\"size\":10,\"solidity\":0.2}},\"type\":\"bar\"}],\"scattergeo\":[{\"type\":\"scattergeo\",\"marker\":{\"colorbar\":{\"outlinewidth\":0,\"ticks\":\"\"}}}],\"scatterpolar\":[{\"type\":\"scatterpolar\",\"marker\":{\"colorbar\":{\"outlinewidth\":0,\"ticks\":\"\"}}}],\"histogram\":[{\"marker\":{\"pattern\":{\"fillmode\":\"overlay\",\"size\":10,\"solidity\":0.2}},\"type\":\"histogram\"}],\"scattergl\":[{\"type\":\"scattergl\",\"marker\":{\"colorbar\":{\"outlinewidth\":0,\"ticks\":\"\"}}}],\"scatter3d\":[{\"type\":\"scatter3d\",\"line\":{\"colorbar\":{\"outlinewidth\":0,\"ticks\":\"\"}},\"marker\":{\"colorbar\":{\"outlinewidth\":0,\"ticks\":\"\"}}}],\"scattermapbox\":[{\"type\":\"scattermapbox\",\"marker\":{\"colorbar\":{\"outlinewidth\":0,\"ticks\":\"\"}}}],\"scatterternary\":[{\"type\":\"scatterternary\",\"marker\":{\"colorbar\":{\"outlinewidth\":0,\"ticks\":\"\"}}}],\"scattercarpet\":[{\"type\":\"scattercarpet\",\"marker\":{\"colorbar\":{\"outlinewidth\":0,\"ticks\":\"\"}}}],\"carpet\":[{\"aaxis\":{\"endlinecolor\":\"#2a3f5f\",\"gridcolor\":\"white\",\"linecolor\":\"white\",\"minorgridcolor\":\"white\",\"startlinecolor\":\"#2a3f5f\"},\"baxis\":{\"endlinecolor\":\"#2a3f5f\",\"gridcolor\":\"white\",\"linecolor\":\"white\",\"minorgridcolor\":\"white\",\"startlinecolor\":\"#2a3f5f\"},\"type\":\"carpet\"}],\"table\":[{\"cells\":{\"fill\":{\"color\":\"#EBF0F8\"},\"line\":{\"color\":\"white\"}},\"header\":{\"fill\":{\"color\":\"#C8D4E3\"},\"line\":{\"color\":\"white\"}},\"type\":\"table\"}],\"barpolar\":[{\"marker\":{\"line\":{\"color\":\"#E5ECF6\",\"width\":0.5},\"pattern\":{\"fillmode\":\"overlay\",\"size\":10,\"solidity\":0.2}},\"type\":\"barpolar\"}],\"pie\":[{\"automargin\":true,\"type\":\"pie\"}]},\"layout\":{\"autotypenumbers\":\"strict\",\"colorway\":[\"#636efa\",\"#EF553B\",\"#00cc96\",\"#ab63fa\",\"#FFA15A\",\"#19d3f3\",\"#FF6692\",\"#B6E880\",\"#FF97FF\",\"#FECB52\"],\"font\":{\"color\":\"#2a3f5f\"},\"hovermode\":\"closest\",\"hoverlabel\":{\"align\":\"left\"},\"paper_bgcolor\":\"white\",\"plot_bgcolor\":\"#E5ECF6\",\"polar\":{\"bgcolor\":\"#E5ECF6\",\"angularaxis\":{\"gridcolor\":\"white\",\"linecolor\":\"white\",\"ticks\":\"\"},\"radialaxis\":{\"gridcolor\":\"white\",\"linecolor\":\"white\",\"ticks\":\"\"}},\"ternary\":{\"bgcolor\":\"#E5ECF6\",\"aaxis\":{\"gridcolor\":\"white\",\"linecolor\":\"white\",\"ticks\":\"\"},\"baxis\":{\"gridcolor\":\"white\",\"linecolor\":\"white\",\"ticks\":\"\"},\"caxis\":{\"gridcolor\":\"white\",\"linecolor\":\"white\",\"ticks\":\"\"}},\"coloraxis\":{\"colorbar\":{\"outlinewidth\":0,\"ticks\":\"\"}},\"colorscale\":{\"sequential\":[[0.0,\"#0d0887\"],[0.1111111111111111,\"#46039f\"],[0.2222222222222222,\"#7201a8\"],[0.3333333333333333,\"#9c179e\"],[0.4444444444444444,\"#bd3786\"],[0.5555555555555556,\"#d8576b\"],[0.6666666666666666,\"#ed7953\"],[0.7777777777777778,\"#fb9f3a\"],[0.8888888888888888,\"#fdca26\"],[1.0,\"#f0f921\"]],\"sequentialminus\":[[0.0,\"#0d0887\"],[0.1111111111111111,\"#46039f\"],[0.2222222222222222,\"#7201a8\"],[0.3333333333333333,\"#9c179e\"],[0.4444444444444444,\"#bd3786\"],[0.5555555555555556,\"#d8576b\"],[0.6666666666666666,\"#ed7953\"],[0.7777777777777778,\"#fb9f3a\"],[0.8888888888888888,\"#fdca26\"],[1.0,\"#f0f921\"]],\"diverging\":[[0,\"#8e0152\"],[0.1,\"#c51b7d\"],[0.2,\"#de77ae\"],[0.3,\"#f1b6da\"],[0.4,\"#fde0ef\"],[0.5,\"#f7f7f7\"],[0.6,\"#e6f5d0\"],[0.7,\"#b8e186\"],[0.8,\"#7fbc41\"],[0.9,\"#4d9221\"],[1,\"#276419\"]]},\"xaxis\":{\"gridcolor\":\"white\",\"linecolor\":\"white\",\"ticks\":\"\",\"title\":{\"standoff\":15},\"zerolinecolor\":\"white\",\"automargin\":true,\"zerolinewidth\":2},\"yaxis\":{\"gridcolor\":\"white\",\"linecolor\":\"white\",\"ticks\":\"\",\"title\":{\"standoff\":15},\"zerolinecolor\":\"white\",\"automargin\":true,\"zerolinewidth\":2},\"scene\":{\"xaxis\":{\"backgroundcolor\":\"#E5ECF6\",\"gridcolor\":\"white\",\"linecolor\":\"white\",\"showbackground\":true,\"ticks\":\"\",\"zerolinecolor\":\"white\",\"gridwidth\":2},\"yaxis\":{\"backgroundcolor\":\"#E5ECF6\",\"gridcolor\":\"white\",\"linecolor\":\"white\",\"showbackground\":true,\"ticks\":\"\",\"zerolinecolor\":\"white\",\"gridwidth\":2},\"zaxis\":{\"backgroundcolor\":\"#E5ECF6\",\"gridcolor\":\"white\",\"linecolor\":\"white\",\"showbackground\":true,\"ticks\":\"\",\"zerolinecolor\":\"white\",\"gridwidth\":2}},\"shapedefaults\":{\"line\":{\"color\":\"#2a3f5f\"}},\"annotationdefaults\":{\"arrowcolor\":\"#2a3f5f\",\"arrowhead\":0,\"arrowwidth\":1},\"geo\":{\"bgcolor\":\"white\",\"landcolor\":\"#E5ECF6\",\"subunitcolor\":\"white\",\"showland\":true,\"showlakes\":true,\"lakecolor\":\"white\"},\"title\":{\"x\":0.05},\"mapbox\":{\"style\":\"light\"}}},\"polar\":{\"radialaxis\":{\"visible\":true,\"range\":[0,3000000000]}},\"showlegend\":true},                        {\"responsive\": true}                    ).then(function(){\n",
       "                            \n",
       "var gd = document.getElementById('b5d4d5c8-26b8-4077-9b48-4ea0752a6c69');\n",
       "var x = new MutationObserver(function (mutations, observer) {{\n",
       "        var display = window.getComputedStyle(gd).display;\n",
       "        if (!display || display === 'none') {{\n",
       "            console.log([gd, 'removed!']);\n",
       "            Plotly.purge(gd);\n",
       "            observer.disconnect();\n",
       "        }}\n",
       "}});\n",
       "\n",
       "// Listen for the removal of the full notebook cells\n",
       "var notebookContainer = gd.closest('#notebook-container');\n",
       "if (notebookContainer) {{\n",
       "    x.observe(notebookContainer, {childList: true});\n",
       "}}\n",
       "\n",
       "// Listen for the clearing of the current output cell\n",
       "var outputEl = gd.closest('.output');\n",
       "if (outputEl) {{\n",
       "    x.observe(outputEl, {childList: true});\n",
       "}}\n",
       "\n",
       "                        })                };                });            </script>        </div>"
      ]
     },
     "metadata": {},
     "output_type": "display_data"
    }
   ],
   "source": [
    "fig = go.Figure()\n",
    "\n",
    "# labels for each point of the chart\n",
    "categories = [\"Budget\", \"Revenue\", \"Profit\"]\n",
    "\n",
    "fig.add_trace(go.Scatterpolar(\n",
    "        r=[237000000, 2787965087, 2550965087], # values for Avatar\n",
    "        theta=categories,\n",
    "        fill='toself',\n",
    "        fillcolor= 'rgba(53,25,62,0.5)',\n",
    "        name='Avatar'\n",
    "    ))\n",
    "\n",
    "fig.add_trace(go.Scatterpolar(\n",
    "        r=[195000000, 1123746996, 928746996], # values for Transformers\n",
    "        theta=categories,\n",
    "        fill='toself',\n",
    "        fillcolor= 'rgba(243,118,81,0.5)',\n",
    "        name='Transformers: Dark of the Moon'\n",
    "    ))\n",
    "\n",
    "# Define layout for the radar chart\n",
    "fig.update_layout(\n",
    "  polar=dict(\n",
    "    radialaxis=dict(\n",
    "      visible=True,\n",
    "      range=[0, 3000000000]\n",
    "    )),\n",
    "  showlegend=True\n",
    ")\n",
    "\n",
    "# Display the chart\n",
    "fig.show()"
   ]
  },
  {
   "cell_type": "markdown",
   "id": "86a35a3a-15cc-43cc-a476-4bd34fd45ccc",
   "metadata": {},
   "source": [
    ">**Insight 6:** The movies had a similar budget, but Avatar produced more than double the revenue, leading to vastly different profits."
   ]
  },
  {
   "cell_type": "markdown",
   "id": "24c9cfe6-44b7-468c-8028-25775241bf01",
   "metadata": {},
   "source": [
    "#### Comparison Against Movies with Similar Genres <a class=\"anchor\" id=\"2.5.2\"></a>"
   ]
  },
  {
   "cell_type": "markdown",
   "id": "efdffdd9-42d8-4ab3-aef8-e3f91057153b",
   "metadata": {},
   "source": [
    "What affects revenue? Let's compare the movies against other movies that also have the Action, Adventure, and Science Fiction genres listed.  "
   ]
  },
  {
   "cell_type": "markdown",
   "id": "c9729ca4-b7cb-4ec2-a83c-b18dd66bfa57",
   "metadata": {},
   "source": [
    "To look for movies containing the genres we want, we can use regex."
   ]
  },
  {
   "cell_type": "code",
   "execution_count": 209,
   "id": "7e4e4f7e-8c1b-4bbd-a987-68008f6b55aa",
   "metadata": {
    "tags": []
   },
   "outputs": [],
   "source": [
    "# produce a string of the genres\n",
    "#https://stackoverflow.com/questions/5618878/how-to-convert-list-to-string\n",
    "df_nn['genres_str'] = [' '.join(str(genre) for genre in genre_list) for genre_list in df_nn['extracted_genres']]"
   ]
  },
  {
   "cell_type": "code",
   "execution_count": 211,
   "id": "3dfbcc26-f4ce-4ca2-8db7-2321fec100a7",
   "metadata": {
    "tags": []
   },
   "outputs": [],
   "source": [
    "# define the regex pattern we are trying to match\n",
    "pattern = '.*Action.*Adventure.*Science Fiction.*|.*Adventure.*Science Fiction.*Action|.*Science Fiction.*Action.*Adventure|.*Action.*Science Fiction.*Adventure.*|.*Science Fiction.*Adventure.*Action.*|.*Adventure.*Action.*Science Fiction.*'\n",
    "\n",
    "# produce a dataframe with these genres\n",
    "sim_by_gen = df_nn[df_nn['genres_str'].str.contains(pattern, regex=True)]"
   ]
  },
  {
   "cell_type": "markdown",
   "id": "4a985626-d98a-4be4-88d0-8a9fa4553046",
   "metadata": {},
   "source": [
    "Produce a graph of budget vs revenue."
   ]
  },
  {
   "cell_type": "code",
   "execution_count": 265,
   "id": "bac6a4b1-e654-4a73-8f11-000c0f76d86e",
   "metadata": {
    "tags": []
   },
   "outputs": [
    {
     "data": {
      "image/png": "[encoded data removed]",
      "text/plain": [
       "<Figure size 1000x600 with 1 Axes>"
      ]
     },
     "metadata": {},
     "output_type": "display_data"
    }
   ],
   "source": [
    "highlight_title_1 = 'Avatar'\n",
    "highlight_title_2 = 'Transformers: Dark of the Moon'\n",
    "highlight_data_1 = sim_by_gen[sim_by_gen['original_title'] == highlight_title_1]\n",
    "highlight_data_2 = sim_by_gen[sim_by_gen['original_title'] == highlight_title_2]\n",
    "\n",
    "# Create scatter plot of budget against popularity\n",
    "plt.figure(figsize=(10, 6))\n",
    "plt.scatter(sim_by_gen['budget'], sim_by_gen['revenue'], label='Movies Similar to Avatar and Transformers', color='#35193e')\n",
    "plt.scatter(highlight_data_1['budget'], highlight_data_1['revenue'], label=f'{highlight_title_1} (Highlighted)', color='#ad1759')\n",
    "plt.scatter(highlight_data_2['budget'], highlight_data_2['revenue'], label=f'{highlight_title_2} (Highlighted)', color='#f6b48f')\n",
    "plt.xlabel('Budget ($)')\n",
    "plt.ylabel('Revenue ($)')\n",
    "plt.title('Budget vs Revenue')\n",
    "plt.legend()\n",
    "plt.show()"
   ]
  },
  {
   "cell_type": "markdown",
   "id": "63d061ea-aa87-437f-a203-f980cfb02626",
   "metadata": {},
   "source": [
    "It seems that a higher budget leads to a higher revenue. Transformers: Dark of the Moon produced as much revenue as expected of a movie of that budget, but Avatar has outperformed. Perhaps more of Avatar's budget was spent on advertising? There isn't a way to tell with this data."
   ]
  },
  {
   "cell_type": "markdown",
   "id": "b79b2040-80e9-4cd1-b72b-a932bce60fda",
   "metadata": {},
   "source": [
    ">**Insight 7:** Budget is positively correlated with revenue. Transformers: Dark of the Moon follows the trend, but Avatar outperforms. "
   ]
  },
  {
   "cell_type": "markdown",
   "id": "a83fb9af-4b2f-42bc-af3e-452f7ca2ad02",
   "metadata": {},
   "source": [
    "Next let's look at popularity vs revenue."
   ]
  },
  {
   "cell_type": "code",
   "execution_count": 267,
   "id": "4de53c55-b612-4c3a-bc7c-9ce5e8bd5059",
   "metadata": {
    "tags": []
   },
   "outputs": [
    {
     "data": {
      "image/png": "[encoded data removed]",
      "text/plain": [
       "<Figure size 1000x600 with 1 Axes>"
      ]
     },
     "metadata": {},
     "output_type": "display_data"
    }
   ],
   "source": [
    "highlight_title_1 = 'Avatar'\n",
    "highlight_title_2 = 'Transformers: Dark of the Moon'\n",
    "highlight_data_1 = sim_by_gen[sim_by_gen['original_title'] == highlight_title_1]\n",
    "highlight_data_2 = sim_by_gen[sim_by_gen['original_title'] == highlight_title_2]\n",
    "\n",
    "# Create scatter plot of budget against popularity\n",
    "plt.figure(figsize=(10, 6))\n",
    "plt.scatter(sim_by_gen['popularity'], sim_by_gen['revenue'], label='Movies Similar to Avatar and Transformers', color='#35193e')\n",
    "plt.scatter(highlight_data_1['popularity'], highlight_data_1['revenue'], label=f'{highlight_title_1} (Highlighted)', color='#ad1759')\n",
    "plt.scatter(highlight_data_2['popularity'], highlight_data_2['revenue'], label=f'{highlight_title_2} (Highlighted)', color='#f6b48f')\n",
    "plt.xlabel('Popularity')\n",
    "plt.ylabel('Revenue ($)')\n",
    "plt.title('Popularity vs Revenue')\n",
    "plt.legend()\n",
    "plt.show()"
   ]
  },
  {
   "cell_type": "markdown",
   "id": "db6f50a6-3309-4dd6-9cf3-e9f53763c0a4",
   "metadata": {},
   "source": [
    ">**Insight 8:** Popularity is positively correlated with revenue. Both Avatar and Transformers: Dark of the Moon produced more revenue than their popularity would suggest, but again, Avatar vastly outperforms."
   ]
  },
  {
   "cell_type": "markdown",
   "id": "18eae527-7d52-427f-87a3-802b77b1139a",
   "metadata": {},
   "source": [
    "## Conclusions <a class=\"anchor\" id=\"3\"></a>"
   ]
  },
  {
   "cell_type": "markdown",
   "id": "1367f2cb-f3d8-440c-903d-0df746a5e3d2",
   "metadata": {},
   "source": [
    "### Data Insights <a class=\"anchor\" id=\"3.1\"></a>\n",
    "- Over 25% of the data has either $0 for budget or revenue, or 0 minutes for runtime. In the context of movies, this data is unreliable.\n",
    "- 2011 was the year with the largest number of movie releases.\n",
    "- Drama was the most produced genre of 2011, but did not generate the most revenue. Action produced the most revenue.\n",
    "- The median revenue for action films in 2011 was relatively small. Several action films outperformed, leading to a large total revenue.\n",
    "- The top grossing movie of 2011 was Transformers: Dark of the Moon. The top grossing film overall was Avatar.\n",
    "- Avatar and Transformers: Dark of the Moon had a similar budget, but Avatar produced more than double the revenue, leading to a much larger profit for Avatar.\n",
    "- Budget is positively correlated with revenue. Transformers: Dark of the Moon follows the trend, but Avatar outperforms, producing more revenue than expected for the budget allocated.\n",
    "- Both Avatar and Transformers: Dark of the Moon produced more revenue than their popularity would suggest, but Avatar yet again outperformed."
   ]
  },
  {
   "cell_type": "code",
   "execution_count": null,
   "id": "cbebc426-fa84-459e-a753-aa3ed0d448f6",
   "metadata": {},
   "outputs": [],
   "source": []
  }
 ],
 "metadata": {
  "kernelspec": {
   "display_name": "Python 3 (ipykernel)",
   "language": "python",
   "name": "python3"
  },
  "language_info": {
   "codemirror_mode": {
    "name": "ipython",
    "version": 3
   },
   "file_extension": ".py",
   "mimetype": "text/x-python",
   "name": "python",
   "nbconvert_exporter": "python",
   "pygments_lexer": "ipython3",
   "version": "3.11.7"
  }
 },
 "nbformat": 4,
 "nbformat_minor": 5
}
